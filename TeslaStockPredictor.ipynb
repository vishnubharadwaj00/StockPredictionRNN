{
  "nbformat": 4,
  "nbformat_minor": 0,
  "metadata": {
    "colab": {
      "name": "TeslaStockPredictor.ipynb",
      "provenance": [],
      "collapsed_sections": []
    },
    "kernelspec": {
      "name": "python3",
      "display_name": "Python 3"
    }
  },
  "cells": [
    {
      "cell_type": "markdown",
      "metadata": {
        "id": "KyKNjXKod6-c",
        "colab_type": "text"
      },
      "source": [
        "# **Stock Prediction using Web Scraping and Recurrent Neural Networks**"
      ]
    },
    {
      "cell_type": "markdown",
      "metadata": {
        "id": "BrGjsGNKdcwD",
        "colab_type": "text"
      },
      "source": [
        "Stock Prediction is a versatile and extensive field on its own. With increasingly sophisticated computational capabilities, Stock Prediction is becoming a more and more important application of fields like Machine Learning, Deep Learning and AI. \n",
        "\n",
        "---\n",
        "\n",
        "This project deals with web scraping Tesla stock prices from the Yahoo Finance page, using Beautiful Soup and Selenium, and using Recurrent Neural Networks (particularly LSTMs) to build a Deep Learning model to predict future stock prices.  "
      ]
    },
    {
      "cell_type": "markdown",
      "metadata": {
        "id": "NNcc7ad3etzq",
        "colab_type": "text"
      },
      "source": [
        "Importing the necessary libraries: "
      ]
    },
    {
      "cell_type": "code",
      "metadata": {
        "id": "sVgKSxzURCAS",
        "colab_type": "code",
        "colab": {}
      },
      "source": [
        "import os \n",
        "import tensorflow as tf\n",
        "import numpy as np \n",
        "import matplotlib.pyplot as plt\n",
        "from matplotlib import style\n",
        "import matplotlib\n",
        "import pandas as pd\n",
        "from datetime import datetime"
      ],
      "execution_count": 0,
      "outputs": []
    },
    {
      "cell_type": "markdown",
      "metadata": {
        "id": "9vWabuu6evSm",
        "colab_type": "text"
      },
      "source": [
        "Since this is executed in Google Colab, the Google Drive containing the web-scraped data is contained here. \n",
        "\n",
        "The code for the webscraping, executed with BeautifulSoup and Selenium, can be found [here]("https://github.com/vishnubharadwaj00/StockPredictionRNN/blob/master/yfinscraper.py")
      ]
    },
    {
      "cell_type": "code",
      "metadata": {
        "id": "xZDMhFfGQX8E",
        "colab_type": "code",
        "outputId": "065c8377-4b44-487f-d8b6-6d5e68c97360",
        "colab": {
          "base_uri": "https://localhost:8080/",
          "height": 124
        }
      },
      "source": [
        "from google.colab import drive\n",
        "drive.mount('/content/gdrive', force_remount=True)\n",
        "root_dir = \"/content/gdrive/My Drive/\"\n",
        "data_dir=os.path.join(root_dir,\"tsla.csv\")"
      ],
      "execution_count": 2,
      "outputs": [
        {
          "output_type": "stream",
          "text": [
            "Go to this URL in a browser: https://accounts.google.com/o/oauth2/auth?client_id=947318989803-6bn6qk8qdgf4n4g3pfee6491hc0brc4i.apps.googleusercontent.com&redirect_uri=urn%3aietf%3awg%3aoauth%3a2.0%3aoob&response_type=code&scope=email%20https%3a%2f%2fwww.googleapis.com%2fauth%2fdocs.test%20https%3a%2f%2fwww.googleapis.com%2fauth%2fdrive%20https%3a%2f%2fwww.googleapis.com%2fauth%2fdrive.photos.readonly%20https%3a%2f%2fwww.googleapis.com%2fauth%2fpeopleapi.readonly\n",
            "\n",
            "Enter your authorization code:\n",
            "··········\n",
            "Mounted at /content/gdrive\n"
          ],
          "name": "stdout"
        }
      ]
    },
    {
      "cell_type": "markdown",
      "metadata": {
        "id": "qIfDlkgWfKjf",
        "colab_type": "text"
      },
      "source": [
        "Creating a function to plot Time Series Data:"
      ]
    },
    {
      "cell_type": "code",
      "metadata": {
        "id": "Hjs6q79ghVem",
        "colab_type": "code",
        "colab": {}
      },
      "source": [
        "def plot_series(time, series, format=\"-\", start=0, end=None):\n",
        "    plt.plot(time[start:end], series[start:end], format)\n",
        "    plt.xlabel(\"Time\")\n",
        "    plt.ylabel(\"Value\")\n",
        "    plt.grid(True)"
      ],
      "execution_count": 0,
      "outputs": []
    },
    {
      "cell_type": "markdown",
      "metadata": {
        "id": "2NvB-X0bfP0Y",
        "colab_type": "text"
      },
      "source": [
        "Reading in the data, using Pandas:"
      ]
    },
    {
      "cell_type": "code",
      "metadata": {
        "id": "iBCUiEV5Q_w3",
        "colab_type": "code",
        "outputId": "9b6b4ff5-4704-471e-9e9e-741c85715e61",
        "colab": {
          "base_uri": "https://localhost:8080/",
          "height": 424
        }
      },
      "source": [
        "df=pd.read_csv(data_dir)\n",
        "df"
      ],
      "execution_count": 4,
      "outputs": [
        {
          "output_type": "execute_result",
          "data": {
            "text/html": [
              "<div>\n",
              "<style scoped>\n",
              "    .dataframe tbody tr th:only-of-type {\n",
              "        vertical-align: middle;\n",
              "    }\n",
              "\n",
              "    .dataframe tbody tr th {\n",
              "        vertical-align: top;\n",
              "    }\n",
              "\n",
              "    .dataframe thead th {\n",
              "        text-align: right;\n",
              "    }\n",
              "</style>\n",
              "<table border=\"1\" class=\"dataframe\">\n",
              "  <thead>\n",
              "    <tr style=\"text-align: right;\">\n",
              "      <th></th>\n",
              "      <th>Unnamed: 0</th>\n",
              "      <th>Date</th>\n",
              "      <th>Open</th>\n",
              "      <th>High</th>\n",
              "      <th>Low</th>\n",
              "      <th>Close*</th>\n",
              "      <th>Adj Close**</th>\n",
              "      <th>Volume</th>\n",
              "    </tr>\n",
              "  </thead>\n",
              "  <tbody>\n",
              "    <tr>\n",
              "      <th>0</th>\n",
              "      <td>0</td>\n",
              "      <td>Apr 29, 2020</td>\n",
              "      <td>790.17</td>\n",
              "      <td>803.20</td>\n",
              "      <td>783.16</td>\n",
              "      <td>800.51</td>\n",
              "      <td>800.51</td>\n",
              "      <td>15812100</td>\n",
              "    </tr>\n",
              "    <tr>\n",
              "      <th>1</th>\n",
              "      <td>1</td>\n",
              "      <td>Apr 28, 2020</td>\n",
              "      <td>795.64</td>\n",
              "      <td>805.00</td>\n",
              "      <td>756.69</td>\n",
              "      <td>769.12</td>\n",
              "      <td>769.12</td>\n",
              "      <td>15222000</td>\n",
              "    </tr>\n",
              "    <tr>\n",
              "      <th>2</th>\n",
              "      <td>2</td>\n",
              "      <td>Apr 27, 2020</td>\n",
              "      <td>737.61</td>\n",
              "      <td>799.49</td>\n",
              "      <td>735.00</td>\n",
              "      <td>798.75</td>\n",
              "      <td>798.75</td>\n",
              "      <td>20681400</td>\n",
              "    </tr>\n",
              "    <tr>\n",
              "      <th>3</th>\n",
              "      <td>3</td>\n",
              "      <td>Apr 24, 2020</td>\n",
              "      <td>710.81</td>\n",
              "      <td>730.73</td>\n",
              "      <td>698.18</td>\n",
              "      <td>725.15</td>\n",
              "      <td>725.15</td>\n",
              "      <td>13237600</td>\n",
              "    </tr>\n",
              "    <tr>\n",
              "      <th>4</th>\n",
              "      <td>4</td>\n",
              "      <td>Apr 23, 2020</td>\n",
              "      <td>727.60</td>\n",
              "      <td>734.00</td>\n",
              "      <td>703.13</td>\n",
              "      <td>705.63</td>\n",
              "      <td>705.63</td>\n",
              "      <td>13236700</td>\n",
              "    </tr>\n",
              "    <tr>\n",
              "      <th>...</th>\n",
              "      <td>...</td>\n",
              "      <td>...</td>\n",
              "      <td>...</td>\n",
              "      <td>...</td>\n",
              "      <td>...</td>\n",
              "      <td>...</td>\n",
              "      <td>...</td>\n",
              "      <td>...</td>\n",
              "    </tr>\n",
              "    <tr>\n",
              "      <th>248</th>\n",
              "      <td>248</td>\n",
              "      <td>May 06, 2019</td>\n",
              "      <td>250.02</td>\n",
              "      <td>258.35</td>\n",
              "      <td>248.50</td>\n",
              "      <td>255.34</td>\n",
              "      <td>255.34</td>\n",
              "      <td>10833900</td>\n",
              "    </tr>\n",
              "    <tr>\n",
              "      <th>249</th>\n",
              "      <td>249</td>\n",
              "      <td>May 03, 2019</td>\n",
              "      <td>243.86</td>\n",
              "      <td>256.61</td>\n",
              "      <td>243.49</td>\n",
              "      <td>255.03</td>\n",
              "      <td>255.03</td>\n",
              "      <td>23706800</td>\n",
              "    </tr>\n",
              "    <tr>\n",
              "      <th>250</th>\n",
              "      <td>250</td>\n",
              "      <td>May 02, 2019</td>\n",
              "      <td>245.52</td>\n",
              "      <td>247.13</td>\n",
              "      <td>237.72</td>\n",
              "      <td>244.10</td>\n",
              "      <td>244.10</td>\n",
              "      <td>18159300</td>\n",
              "    </tr>\n",
              "    <tr>\n",
              "      <th>251</th>\n",
              "      <td>251</td>\n",
              "      <td>May 01, 2019</td>\n",
              "      <td>238.85</td>\n",
              "      <td>240.00</td>\n",
              "      <td>231.50</td>\n",
              "      <td>234.01</td>\n",
              "      <td>234.01</td>\n",
              "      <td>10704400</td>\n",
              "    </tr>\n",
              "    <tr>\n",
              "      <th>252</th>\n",
              "      <td>252</td>\n",
              "      <td>Apr 30, 2019</td>\n",
              "      <td>242.06</td>\n",
              "      <td>244.21</td>\n",
              "      <td>237.00</td>\n",
              "      <td>238.69</td>\n",
              "      <td>238.69</td>\n",
              "      <td>9464600</td>\n",
              "    </tr>\n",
              "  </tbody>\n",
              "</table>\n",
              "<p>253 rows × 8 columns</p>\n",
              "</div>"
            ],
            "text/plain": [
              "     Unnamed: 0          Date    Open  ...  Close*  Adj Close**    Volume\n",
              "0             0  Apr 29, 2020  790.17  ...  800.51       800.51  15812100\n",
              "1             1  Apr 28, 2020  795.64  ...  769.12       769.12  15222000\n",
              "2             2  Apr 27, 2020  737.61  ...  798.75       798.75  20681400\n",
              "3             3  Apr 24, 2020  710.81  ...  725.15       725.15  13237600\n",
              "4             4  Apr 23, 2020  727.60  ...  705.63       705.63  13236700\n",
              "..          ...           ...     ...  ...     ...          ...       ...\n",
              "248         248  May 06, 2019  250.02  ...  255.34       255.34  10833900\n",
              "249         249  May 03, 2019  243.86  ...  255.03       255.03  23706800\n",
              "250         250  May 02, 2019  245.52  ...  244.10       244.10  18159300\n",
              "251         251  May 01, 2019  238.85  ...  234.01       234.01  10704400\n",
              "252         252  Apr 30, 2019  242.06  ...  238.69       238.69   9464600\n",
              "\n",
              "[253 rows x 8 columns]"
            ]
          },
          "metadata": {
            "tags": []
          },
          "execution_count": 4
        }
      ]
    },
    {
      "cell_type": "markdown",
      "metadata": {
        "id": "DYD8oR3-fTpp",
        "colab_type": "text"
      },
      "source": [
        "There's a year's worth of stock prices here, from April 30, 2019 to April 29, 2020, with a few days' data missing. \n",
        "\n",
        "But first, there is some Data Cleaning that needs to be done: \n",
        "\n",
        "The columns \"Close\" and \"Adj Close\" have additional * symbols which have to be removed:"
      ]
    },
    {
      "cell_type": "code",
      "metadata": {
        "id": "RwPGclyBR3d7",
        "colab_type": "code",
        "outputId": "944bcc1a-1b3e-421b-e747-4e01a7b5267e",
        "colab": {
          "base_uri": "https://localhost:8080/",
          "height": 424
        }
      },
      "source": [
        "df.drop(labels=\"Unnamed: 0\", axis=1, inplace=True)\n",
        "df.rename(columns={\"Close*\": \"Close\", \"Adj Close**\": \"Adj Close\"},inplace=True)\n",
        "df"
      ],
      "execution_count": 6,
      "outputs": [
        {
          "output_type": "execute_result",
          "data": {
            "text/html": [
              "<div>\n",
              "<style scoped>\n",
              "    .dataframe tbody tr th:only-of-type {\n",
              "        vertical-align: middle;\n",
              "    }\n",
              "\n",
              "    .dataframe tbody tr th {\n",
              "        vertical-align: top;\n",
              "    }\n",
              "\n",
              "    .dataframe thead th {\n",
              "        text-align: right;\n",
              "    }\n",
              "</style>\n",
              "<table border=\"1\" class=\"dataframe\">\n",
              "  <thead>\n",
              "    <tr style=\"text-align: right;\">\n",
              "      <th></th>\n",
              "      <th>Date</th>\n",
              "      <th>Open</th>\n",
              "      <th>High</th>\n",
              "      <th>Low</th>\n",
              "      <th>Close</th>\n",
              "      <th>Adj Close</th>\n",
              "      <th>Volume</th>\n",
              "    </tr>\n",
              "  </thead>\n",
              "  <tbody>\n",
              "    <tr>\n",
              "      <th>0</th>\n",
              "      <td>Apr 29, 2020</td>\n",
              "      <td>790.17</td>\n",
              "      <td>803.20</td>\n",
              "      <td>783.16</td>\n",
              "      <td>800.51</td>\n",
              "      <td>800.51</td>\n",
              "      <td>15812100</td>\n",
              "    </tr>\n",
              "    <tr>\n",
              "      <th>1</th>\n",
              "      <td>Apr 28, 2020</td>\n",
              "      <td>795.64</td>\n",
              "      <td>805.00</td>\n",
              "      <td>756.69</td>\n",
              "      <td>769.12</td>\n",
              "      <td>769.12</td>\n",
              "      <td>15222000</td>\n",
              "    </tr>\n",
              "    <tr>\n",
              "      <th>2</th>\n",
              "      <td>Apr 27, 2020</td>\n",
              "      <td>737.61</td>\n",
              "      <td>799.49</td>\n",
              "      <td>735.00</td>\n",
              "      <td>798.75</td>\n",
              "      <td>798.75</td>\n",
              "      <td>20681400</td>\n",
              "    </tr>\n",
              "    <tr>\n",
              "      <th>3</th>\n",
              "      <td>Apr 24, 2020</td>\n",
              "      <td>710.81</td>\n",
              "      <td>730.73</td>\n",
              "      <td>698.18</td>\n",
              "      <td>725.15</td>\n",
              "      <td>725.15</td>\n",
              "      <td>13237600</td>\n",
              "    </tr>\n",
              "    <tr>\n",
              "      <th>4</th>\n",
              "      <td>Apr 23, 2020</td>\n",
              "      <td>727.60</td>\n",
              "      <td>734.00</td>\n",
              "      <td>703.13</td>\n",
              "      <td>705.63</td>\n",
              "      <td>705.63</td>\n",
              "      <td>13236700</td>\n",
              "    </tr>\n",
              "    <tr>\n",
              "      <th>...</th>\n",
              "      <td>...</td>\n",
              "      <td>...</td>\n",
              "      <td>...</td>\n",
              "      <td>...</td>\n",
              "      <td>...</td>\n",
              "      <td>...</td>\n",
              "      <td>...</td>\n",
              "    </tr>\n",
              "    <tr>\n",
              "      <th>248</th>\n",
              "      <td>May 06, 2019</td>\n",
              "      <td>250.02</td>\n",
              "      <td>258.35</td>\n",
              "      <td>248.50</td>\n",
              "      <td>255.34</td>\n",
              "      <td>255.34</td>\n",
              "      <td>10833900</td>\n",
              "    </tr>\n",
              "    <tr>\n",
              "      <th>249</th>\n",
              "      <td>May 03, 2019</td>\n",
              "      <td>243.86</td>\n",
              "      <td>256.61</td>\n",
              "      <td>243.49</td>\n",
              "      <td>255.03</td>\n",
              "      <td>255.03</td>\n",
              "      <td>23706800</td>\n",
              "    </tr>\n",
              "    <tr>\n",
              "      <th>250</th>\n",
              "      <td>May 02, 2019</td>\n",
              "      <td>245.52</td>\n",
              "      <td>247.13</td>\n",
              "      <td>237.72</td>\n",
              "      <td>244.10</td>\n",
              "      <td>244.10</td>\n",
              "      <td>18159300</td>\n",
              "    </tr>\n",
              "    <tr>\n",
              "      <th>251</th>\n",
              "      <td>May 01, 2019</td>\n",
              "      <td>238.85</td>\n",
              "      <td>240.00</td>\n",
              "      <td>231.50</td>\n",
              "      <td>234.01</td>\n",
              "      <td>234.01</td>\n",
              "      <td>10704400</td>\n",
              "    </tr>\n",
              "    <tr>\n",
              "      <th>252</th>\n",
              "      <td>Apr 30, 2019</td>\n",
              "      <td>242.06</td>\n",
              "      <td>244.21</td>\n",
              "      <td>237.00</td>\n",
              "      <td>238.69</td>\n",
              "      <td>238.69</td>\n",
              "      <td>9464600</td>\n",
              "    </tr>\n",
              "  </tbody>\n",
              "</table>\n",
              "<p>253 rows × 7 columns</p>\n",
              "</div>"
            ],
            "text/plain": [
              "             Date    Open    High     Low   Close  Adj Close    Volume\n",
              "0    Apr 29, 2020  790.17  803.20  783.16  800.51     800.51  15812100\n",
              "1    Apr 28, 2020  795.64  805.00  756.69  769.12     769.12  15222000\n",
              "2    Apr 27, 2020  737.61  799.49  735.00  798.75     798.75  20681400\n",
              "3    Apr 24, 2020  710.81  730.73  698.18  725.15     725.15  13237600\n",
              "4    Apr 23, 2020  727.60  734.00  703.13  705.63     705.63  13236700\n",
              "..            ...     ...     ...     ...     ...        ...       ...\n",
              "248  May 06, 2019  250.02  258.35  248.50  255.34     255.34  10833900\n",
              "249  May 03, 2019  243.86  256.61  243.49  255.03     255.03  23706800\n",
              "250  May 02, 2019  245.52  247.13  237.72  244.10     244.10  18159300\n",
              "251  May 01, 2019  238.85  240.00  231.50  234.01     234.01  10704400\n",
              "252  Apr 30, 2019  242.06  244.21  237.00  238.69     238.69   9464600\n",
              "\n",
              "[253 rows x 7 columns]"
            ]
          },
          "metadata": {
            "tags": []
          },
          "execution_count": 6
        }
      ]
    },
    {
      "cell_type": "markdown",
      "metadata": {
        "id": "s-PWtyfvfnuL",
        "colab_type": "text"
      },
      "source": [
        "Next, it would be much easier if the order of the data was reversed, since the data was originally arranged as latest to earliest. \n",
        "\n",
        "This would make it easier to use the earlier data for training and the later data for validation/testing. "
      ]
    },
    {
      "cell_type": "code",
      "metadata": {
        "id": "sz_al1My7bkB",
        "colab_type": "code",
        "outputId": "77001ebc-82eb-4939-e251-6012ab52ab39",
        "colab": {
          "base_uri": "https://localhost:8080/",
          "height": 424
        }
      },
      "source": [
        "df=pd.DataFrame(df.values[::-1], df.index, df.columns)\n",
        "df"
      ],
      "execution_count": 7,
      "outputs": [
        {
          "output_type": "execute_result",
          "data": {
            "text/html": [
              "<div>\n",
              "<style scoped>\n",
              "    .dataframe tbody tr th:only-of-type {\n",
              "        vertical-align: middle;\n",
              "    }\n",
              "\n",
              "    .dataframe tbody tr th {\n",
              "        vertical-align: top;\n",
              "    }\n",
              "\n",
              "    .dataframe thead th {\n",
              "        text-align: right;\n",
              "    }\n",
              "</style>\n",
              "<table border=\"1\" class=\"dataframe\">\n",
              "  <thead>\n",
              "    <tr style=\"text-align: right;\">\n",
              "      <th></th>\n",
              "      <th>Date</th>\n",
              "      <th>Open</th>\n",
              "      <th>High</th>\n",
              "      <th>Low</th>\n",
              "      <th>Close</th>\n",
              "      <th>Adj Close</th>\n",
              "      <th>Volume</th>\n",
              "    </tr>\n",
              "  </thead>\n",
              "  <tbody>\n",
              "    <tr>\n",
              "      <th>0</th>\n",
              "      <td>Apr 30, 2019</td>\n",
              "      <td>242.06</td>\n",
              "      <td>244.21</td>\n",
              "      <td>237</td>\n",
              "      <td>238.69</td>\n",
              "      <td>238.69</td>\n",
              "      <td>9464600</td>\n",
              "    </tr>\n",
              "    <tr>\n",
              "      <th>1</th>\n",
              "      <td>May 01, 2019</td>\n",
              "      <td>238.85</td>\n",
              "      <td>240</td>\n",
              "      <td>231.5</td>\n",
              "      <td>234.01</td>\n",
              "      <td>234.01</td>\n",
              "      <td>10704400</td>\n",
              "    </tr>\n",
              "    <tr>\n",
              "      <th>2</th>\n",
              "      <td>May 02, 2019</td>\n",
              "      <td>245.52</td>\n",
              "      <td>247.13</td>\n",
              "      <td>237.72</td>\n",
              "      <td>244.1</td>\n",
              "      <td>244.1</td>\n",
              "      <td>18159300</td>\n",
              "    </tr>\n",
              "    <tr>\n",
              "      <th>3</th>\n",
              "      <td>May 03, 2019</td>\n",
              "      <td>243.86</td>\n",
              "      <td>256.61</td>\n",
              "      <td>243.49</td>\n",
              "      <td>255.03</td>\n",
              "      <td>255.03</td>\n",
              "      <td>23706800</td>\n",
              "    </tr>\n",
              "    <tr>\n",
              "      <th>4</th>\n",
              "      <td>May 06, 2019</td>\n",
              "      <td>250.02</td>\n",
              "      <td>258.35</td>\n",
              "      <td>248.5</td>\n",
              "      <td>255.34</td>\n",
              "      <td>255.34</td>\n",
              "      <td>10833900</td>\n",
              "    </tr>\n",
              "    <tr>\n",
              "      <th>...</th>\n",
              "      <td>...</td>\n",
              "      <td>...</td>\n",
              "      <td>...</td>\n",
              "      <td>...</td>\n",
              "      <td>...</td>\n",
              "      <td>...</td>\n",
              "      <td>...</td>\n",
              "    </tr>\n",
              "    <tr>\n",
              "      <th>248</th>\n",
              "      <td>Apr 23, 2020</td>\n",
              "      <td>727.6</td>\n",
              "      <td>734</td>\n",
              "      <td>703.13</td>\n",
              "      <td>705.63</td>\n",
              "      <td>705.63</td>\n",
              "      <td>13236700</td>\n",
              "    </tr>\n",
              "    <tr>\n",
              "      <th>249</th>\n",
              "      <td>Apr 24, 2020</td>\n",
              "      <td>710.81</td>\n",
              "      <td>730.73</td>\n",
              "      <td>698.18</td>\n",
              "      <td>725.15</td>\n",
              "      <td>725.15</td>\n",
              "      <td>13237600</td>\n",
              "    </tr>\n",
              "    <tr>\n",
              "      <th>250</th>\n",
              "      <td>Apr 27, 2020</td>\n",
              "      <td>737.61</td>\n",
              "      <td>799.49</td>\n",
              "      <td>735</td>\n",
              "      <td>798.75</td>\n",
              "      <td>798.75</td>\n",
              "      <td>20681400</td>\n",
              "    </tr>\n",
              "    <tr>\n",
              "      <th>251</th>\n",
              "      <td>Apr 28, 2020</td>\n",
              "      <td>795.64</td>\n",
              "      <td>805</td>\n",
              "      <td>756.69</td>\n",
              "      <td>769.12</td>\n",
              "      <td>769.12</td>\n",
              "      <td>15222000</td>\n",
              "    </tr>\n",
              "    <tr>\n",
              "      <th>252</th>\n",
              "      <td>Apr 29, 2020</td>\n",
              "      <td>790.17</td>\n",
              "      <td>803.2</td>\n",
              "      <td>783.16</td>\n",
              "      <td>800.51</td>\n",
              "      <td>800.51</td>\n",
              "      <td>15812100</td>\n",
              "    </tr>\n",
              "  </tbody>\n",
              "</table>\n",
              "<p>253 rows × 7 columns</p>\n",
              "</div>"
            ],
            "text/plain": [
              "             Date    Open    High     Low   Close Adj Close    Volume\n",
              "0    Apr 30, 2019  242.06  244.21     237  238.69    238.69   9464600\n",
              "1    May 01, 2019  238.85     240   231.5  234.01    234.01  10704400\n",
              "2    May 02, 2019  245.52  247.13  237.72   244.1     244.1  18159300\n",
              "3    May 03, 2019  243.86  256.61  243.49  255.03    255.03  23706800\n",
              "4    May 06, 2019  250.02  258.35   248.5  255.34    255.34  10833900\n",
              "..            ...     ...     ...     ...     ...       ...       ...\n",
              "248  Apr 23, 2020   727.6     734  703.13  705.63    705.63  13236700\n",
              "249  Apr 24, 2020  710.81  730.73  698.18  725.15    725.15  13237600\n",
              "250  Apr 27, 2020  737.61  799.49     735  798.75    798.75  20681400\n",
              "251  Apr 28, 2020  795.64     805  756.69  769.12    769.12  15222000\n",
              "252  Apr 29, 2020  790.17   803.2  783.16  800.51    800.51  15812100\n",
              "\n",
              "[253 rows x 7 columns]"
            ]
          },
          "metadata": {
            "tags": []
          },
          "execution_count": 7
        }
      ]
    },
    {
      "cell_type": "markdown",
      "metadata": {
        "id": "JYFxaWBZgLkV",
        "colab_type": "text"
      },
      "source": [
        "Creating a seperate Data Frame to visualize the stock prices better:"
      ]
    },
    {
      "cell_type": "code",
      "metadata": {
        "id": "aXeGNJgrS-32",
        "colab_type": "code",
        "outputId": "9c1b22b3-9870-4fea-8bac-3a3cd31e5f63",
        "colab": {
          "base_uri": "https://localhost:8080/",
          "height": 139
        }
      },
      "source": [
        "adj_close=df['Adj Close']\n",
        "adj_close.index = df['Date']\n",
        "\n",
        "adj_close.head()"
      ],
      "execution_count": 8,
      "outputs": [
        {
          "output_type": "execute_result",
          "data": {
            "text/plain": [
              "Date\n",
              "Apr 30, 2019    238.69\n",
              "May 01, 2019    234.01\n",
              "May 02, 2019     244.1\n",
              "May 03, 2019    255.03\n",
              "May 06, 2019    255.34\n",
              "Name: Adj Close, dtype: object"
            ]
          },
          "metadata": {
            "tags": []
          },
          "execution_count": 8
        }
      ]
    },
    {
      "cell_type": "code",
      "metadata": {
        "id": "WkfyvT2YgYdB",
        "colab_type": "code",
        "colab": {
          "base_uri": "https://localhost:8080/",
          "height": 34
        },
        "outputId": "e1a79337-c270-46de-98de-e98eae0b74ff"
      },
      "source": [
        "type(df['Date'][0])"
      ],
      "execution_count": 12,
      "outputs": [
        {
          "output_type": "execute_result",
          "data": {
            "text/plain": [
              "str"
            ]
          },
          "metadata": {
            "tags": []
          },
          "execution_count": 12
        }
      ]
    },
    {
      "cell_type": "markdown",
      "metadata": {
        "id": "TmUZVML3gTaM",
        "colab_type": "text"
      },
      "source": [
        "The \"Date\" column in the original Data Frame is of type \"String\", but it has to be of \"Datetime\" format, to make it easier to plot it in the x-axis. "
      ]
    },
    {
      "cell_type": "code",
      "metadata": {
        "id": "YXmY8WKwwODv",
        "colab_type": "code",
        "colab": {
          "base_uri": "https://localhost:8080/",
          "height": 34
        },
        "outputId": "a65b6382-79ce-429f-cc64-31b05fa56f0f"
      },
      "source": [
        "dates=df['Date']\n",
        "dates1=[]\n",
        "for date in dates:\n",
        "    dates1.append(datetime.strptime(date, '%b %d, %Y'))\n",
        "dates=pd.core.series.Series(dates1)\n",
        "\n",
        "type(dates[0])"
      ],
      "execution_count": 13,
      "outputs": [
        {
          "output_type": "execute_result",
          "data": {
            "text/plain": [
              "pandas._libs.tslibs.timestamps.Timestamp"
            ]
          },
          "metadata": {
            "tags": []
          },
          "execution_count": 13
        }
      ]
    },
    {
      "cell_type": "markdown",
      "metadata": {
        "id": "HA2tqxssgp48",
        "colab_type": "text"
      },
      "source": [
        "Plotting the Adjusted Close Stock Prices over the last year:"
      ]
    },
    {
      "cell_type": "code",
      "metadata": {
        "id": "u3eyLfPIUybp",
        "colab_type": "code",
        "outputId": "acfd10a5-ca5b-4905-9ddd-98f1e38248e1",
        "colab": {
          "base_uri": "https://localhost:8080/",
          "height": 504
        }
      },
      "source": [
        "plt.figure(figsize=(13,8))\n",
        "plt.style.use('fivethirtyeight')\n",
        "plt.plot(dates1,adj_close)\n",
        "plt.title(\"Tesla Adjusted Close Prices\",loc='left')\n",
        "plt.rcParams.update({'font.size': 14})"
      ],
      "execution_count": 11,
      "outputs": [
        {
          "output_type": "display_data",
          "data": {
            "image/png": "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\n",
            "text/plain": [
              "<Figure size 936x576 with 1 Axes>"
            ]
          },
          "metadata": {
            "tags": [],
            "needs_background": "light"
          }
        }
      ]
    },
    {
      "cell_type": "markdown",
      "metadata": {
        "id": "oy7KA6Oagw2X",
        "colab_type": "text"
      },
      "source": [
        "There's a huge up-tick in the price sometime after January 2020, which was when Tesla announced strong fourth-quarter financials, which exceeded all expectations. \n",
        "\n",
        "The dip in the price in March corresponds to the COVID-19 pandemic and the financial crisis that it brought with it. \n",
        "\n",
        "It does seem to be on the rise now, so it will be interesting to see if the model can predict all these ups and downs. "
      ]
    },
    {
      "cell_type": "markdown",
      "metadata": {
        "id": "y9ngZ5tehWdv",
        "colab_type": "text"
      },
      "source": [
        "Creating Series and Time arrays, and converting them to the right type:"
      ]
    },
    {
      "cell_type": "code",
      "metadata": {
        "id": "sxJQAmuIhGqu",
        "colab_type": "code",
        "colab": {}
      },
      "source": [
        "series = np.array(adj_close.values)\n",
        "time = np.array(dates)"
      ],
      "execution_count": 0,
      "outputs": []
    },
    {
      "cell_type": "code",
      "metadata": {
        "id": "x78vOJk1eJa8",
        "colab_type": "code",
        "outputId": "a42f64e4-2506-4282-9155-1a4a704a3f24",
        "colab": {
          "base_uri": "https://localhost:8080/",
          "height": 573
        }
      },
      "source": [
        "series=pd.to_numeric(series,errors='coerce',downcast='float')\n",
        "series"
      ],
      "execution_count": 15,
      "outputs": [
        {
          "output_type": "execute_result",
          "data": {
            "text/plain": [
              "array([238.69, 234.01, 244.1 , 255.03, 255.34, 247.06, 244.84, 241.98,\n",
              "       239.52, 227.01, 232.31, 231.95, 228.33, 211.03, 205.36, 205.08,\n",
              "       192.73, 195.49, 190.63, 188.7 , 189.86, 188.22, 185.16, 178.97,\n",
              "       193.6 , 196.59, 205.95, 204.5 , 212.88, 217.1 , 209.26, 213.91,\n",
              "       214.92, 225.03, 224.74, 226.43, 219.62, 221.86, 223.64, 219.76,\n",
              "       219.27, 222.84, 223.46, 227.17, 224.55, 234.9 , 233.1 , 230.34,\n",
              "       230.06, 238.92, 238.6 , 245.08, 253.5 , 252.38, 254.86, 253.54,\n",
              "       258.18, 255.68, 260.17, 264.88, 228.82, 228.04, 235.77, 242.26,\n",
              "       241.61, 233.85, 234.34, 228.32, 230.75, 233.42, 238.3 , 235.01,\n",
              "       229.01, 235.  , 219.62, 215.64, 219.94, 226.83, 225.86, 220.83,\n",
              "       222.15, 211.4 , 215.  , 214.08, 215.59, 221.71, 225.61, 225.01,\n",
              "       220.68, 229.58, 227.45, 231.79, 235.54, 247.1 , 245.87, 245.2 ,\n",
              "       242.81, 244.79, 243.49, 246.6 , 240.62, 241.23, 223.21, 228.7 ,\n",
              "       242.56, 242.13, 240.87, 244.69, 243.13, 233.03, 231.43, 237.72,\n",
              "       240.05, 244.53, 244.74, 247.89, 256.96, 257.89, 259.75, 261.97,\n",
              "       256.95, 253.5 , 255.58, 254.68, 299.68, 328.13, 327.71, 316.22,\n",
              "       315.01, 314.92, 313.31, 317.47, 317.22, 326.58, 335.54, 337.14,\n",
              "       345.09, 349.93, 346.11, 349.35, 352.17, 349.99, 359.52, 352.22,\n",
              "       354.83, 333.04, 336.34, 328.92, 331.29, 329.94, 334.87, 336.2 ,\n",
              "       333.03, 330.37, 335.89, 339.53, 348.84, 352.7 , 359.68, 358.39,\n",
              "       381.5 , 378.99, 393.15, 404.04, 405.59, 419.22, 425.25, 430.94,\n",
              "       430.38, 414.7 , 418.33, 430.26, 443.01, 451.54, 469.06, 492.14,\n",
              "       481.34, 478.15, 524.86, 537.92, 518.5 , 513.49, 510.5 , 547.2 ,\n",
              "       569.56, 572.2 , 564.82, 558.02, 566.9 , 580.99, 640.81, 650.57,\n",
              "       780.  , 887.06, 734.7 , 748.96, 748.07, 771.28, 774.38, 767.29,\n",
              "       804.  , 800.03, 858.4 , 917.42, 899.41, 901.  , 833.79, 799.91,\n",
              "       778.8 , 679.  , 667.99, 743.62, 745.51, 749.5 , 724.54, 703.48,\n",
              "       608.  , 645.33, 634.23, 560.55, 546.62, 445.07, 430.2 , 361.22,\n",
              "       427.64, 427.53, 434.29, 505.  , 539.25, 528.16, 514.36, 502.13,\n",
              "       524.  , 481.56, 454.47, 480.01, 516.24, 545.45, 548.84, 573.  ,\n",
              "       650.95, 709.89, 729.83, 745.21, 753.89, 746.36, 686.72, 732.11,\n",
              "       705.63, 725.15, 798.75, 769.12, 800.51], dtype=float32)"
            ]
          },
          "metadata": {
            "tags": []
          },
          "execution_count": 15
        }
      ]
    },
    {
      "cell_type": "code",
      "metadata": {
        "id": "DrYfzi_heve6",
        "colab_type": "code",
        "outputId": "22716e23-4b6c-424d-a3f8-2c16cee05134",
        "colab": {
          "base_uri": "https://localhost:8080/",
          "height": 34
        }
      },
      "source": [
        "series.dtype"
      ],
      "execution_count": 16,
      "outputs": [
        {
          "output_type": "execute_result",
          "data": {
            "text/plain": [
              "dtype('float32')"
            ]
          },
          "metadata": {
            "tags": []
          },
          "execution_count": 16
        }
      ]
    },
    {
      "cell_type": "markdown",
      "metadata": {
        "id": "L0KkCj6yhgMj",
        "colab_type": "text"
      },
      "source": [
        "There are about 250 tuples, so a 80-20 split is somewhere around 210 for training set and 40 for testing set. The window size (for creating a windowed_dataset) and batch size can also be specified here.\n"
      ]
    },
    {
      "cell_type": "code",
      "metadata": {
        "id": "PLJWzwFqVPvh",
        "colab_type": "code",
        "colab": {}
      },
      "source": [
        "split_time = 210\n",
        "adj_train = series[:split_time]\n",
        "adj_valid = series[split_time:]\n",
        "dates_train=dates[:split_time]\n",
        "dates_valid=dates[split_time:]\n",
        "\n",
        "window_size = 16\n",
        "batch_size = 32\n",
        "shuffle_buffer_size = 50"
      ],
      "execution_count": 0,
      "outputs": []
    },
    {
      "cell_type": "markdown",
      "metadata": {
        "id": "R2WXOLjViZVF",
        "colab_type": "text"
      },
      "source": [
        "A function for creating a windowed dataset can be specified here. This is particularly helpful because it helps to create specific sized data slices, to train on them, make predictions, and subsequently learn from those predictions as well. "
      ]
    },
    {
      "cell_type": "code",
      "metadata": {
        "id": "573uDFbSYohP",
        "colab_type": "code",
        "colab": {}
      },
      "source": [
        "def windowed_dataset(series, window_size, batch_size, shuffle_buffer):\n",
        "    series = tf.expand_dims(series, axis=-1)\n",
        "    ds = tf.data.Dataset.from_tensor_slices(series)\n",
        "    ds = ds.window(window_size + 1, shift=1, drop_remainder=True)\n",
        "    ds = ds.flat_map(lambda w: w.batch(window_size + 1))\n",
        "    ds = ds.shuffle(shuffle_buffer)\n",
        "    ds = ds.map(lambda w: (w[:-1], w[1:]))\n",
        "    return ds.batch(batch_size).prefetch(1)"
      ],
      "execution_count": 0,
      "outputs": []
    },
    {
      "cell_type": "markdown",
      "metadata": {
        "id": "rcQm8wxXipIQ",
        "colab_type": "text"
      },
      "source": [
        "A function for forecasting data, given the series and the model can be specified here:"
      ]
    },
    {
      "cell_type": "code",
      "metadata": {
        "id": "udfbp7oHiGnZ",
        "colab_type": "code",
        "colab": {}
      },
      "source": [
        "def model_forecast(model, series, window_size):\n",
        "    ds = tf.data.Dataset.from_tensor_slices(series)\n",
        "    ds = ds.window(window_size, shift=1, drop_remainder=True)\n",
        "    ds = ds.flat_map(lambda w: w.batch(window_size))\n",
        "    ds = ds.batch(32).prefetch(1)\n",
        "    forecast = model.predict(ds)\n",
        "    return forecast"
      ],
      "execution_count": 0,
      "outputs": []
    },
    {
      "cell_type": "markdown",
      "metadata": {
        "id": "DomWdZsCi3gc",
        "colab_type": "text"
      },
      "source": [
        "Creating our windowed training set:"
      ]
    },
    {
      "cell_type": "code",
      "metadata": {
        "id": "3mptXDPRkebx",
        "colab_type": "code",
        "outputId": "8e1f76af-eb57-4305-d9d6-4bd0026db462",
        "colab": {
          "base_uri": "https://localhost:8080/",
          "height": 52
        }
      },
      "source": [
        "tf.keras.backend.clear_session()\n",
        "tf.random.set_seed(51)\n",
        "np.random.seed(51)\n",
        "window_size = 64\n",
        "batch_size = 256\n",
        "train_set = windowed_dataset(adj_train, window_size, batch_size, shuffle_buffer_size)\n",
        "print(train_set)\n",
        "print(adj_train.shape)"
      ],
      "execution_count": 20,
      "outputs": [
        {
          "output_type": "stream",
          "text": [
            "<PrefetchDataset shapes: ((None, None, 1), (None, None, 1)), types: (tf.float32, tf.float32)>\n",
            "(210,)\n"
          ],
          "name": "stdout"
        }
      ]
    },
    {
      "cell_type": "markdown",
      "metadata": {
        "id": "y1O7wb5Hi67l",
        "colab_type": "text"
      },
      "source": [
        "Specifying the layers of our Keras model.\n",
        "\n",
        "It has 1 Convolutional Layer, which complements the windowing of the dataset. Simply through extensive trial and error, the configuration of 2 LSTMs (64 and 32 nodes), and 3 Dense Layers (24, 12 and 1 nodes) was selected here. "
      ]
    },
    {
      "cell_type": "code",
      "metadata": {
        "id": "F04ah9ghqStH",
        "colab_type": "code",
        "colab": {}
      },
      "source": [
        "model = tf.keras.models.Sequential([\n",
        "  tf.keras.layers.Conv1D(filters=60, kernel_size=5,\n",
        "                      strides=1, padding=\"causal\",\n",
        "                      activation=\"relu\",\n",
        "                      input_shape=[None, 1]),\n",
        "  tf.keras.layers.LSTM(64, return_sequences=True),\n",
        "  tf.keras.layers.LSTM(32, return_sequences=True),\n",
        "  tf.keras.layers.Dense(24, activation=\"relu\"),\n",
        "  tf.keras.layers.Dense(12, activation=\"relu\"),\n",
        "  tf.keras.layers.Dense(1),\n",
        "  tf.keras.layers.Lambda(lambda x: x * 400)\n",
        "])"
      ],
      "execution_count": 0,
      "outputs": []
    },
    {
      "cell_type": "markdown",
      "metadata": {
        "id": "I2AQfvkljQVB",
        "colab_type": "text"
      },
      "source": [
        "Before actually running our model in its entirity, it might help to specify a learning rate, so the model can be run for a specified number of epochs, and seeing how the model does, a optimized learning rate can be found. This hyperparameter tuning will prove to be very useful later. "
      ]
    },
    {
      "cell_type": "code",
      "metadata": {
        "id": "6QaFQKOTkhZ3",
        "colab_type": "code",
        "outputId": "075850f9-9fda-4660-ffca-53de179de48b",
        "colab": {
          "base_uri": "https://localhost:8080/",
          "height": 1000
        }
      },
      "source": [
        "lr_schedule = tf.keras.callbacks.LearningRateScheduler(\n",
        "    lambda epoch: 1e-8 * 10**(epoch / 20))\n",
        "optimizer = tf.keras.optimizers.SGD(lr=1e-8, momentum=0.9)\n",
        "model.compile(loss=tf.keras.losses.Huber(),\n",
        "              optimizer=optimizer,\n",
        "              metrics=[\"mae\"])\n",
        "history = model.fit(train_set, epochs=100, callbacks=[lr_schedule])"
      ],
      "execution_count": 22,
      "outputs": [
        {
          "output_type": "stream",
          "text": [
            "Epoch 1/100\n",
            "1/1 [==============================] - 0s 40ms/step - loss: 269.6010 - mae: 270.1010 - lr: 1.0000e-08\n",
            "Epoch 2/100\n",
            "1/1 [==============================] - 0s 2ms/step - loss: 269.5738 - mae: 270.0738 - lr: 1.1220e-08\n",
            "Epoch 3/100\n",
            "1/1 [==============================] - 0s 2ms/step - loss: 269.5186 - mae: 270.0186 - lr: 1.2589e-08\n",
            "Epoch 4/100\n",
            "1/1 [==============================] - 0s 2ms/step - loss: 269.4341 - mae: 269.9341 - lr: 1.4125e-08\n",
            "Epoch 5/100\n",
            "1/1 [==============================] - 0s 2ms/step - loss: 269.3180 - mae: 269.8180 - lr: 1.5849e-08\n",
            "Epoch 6/100\n",
            "1/1 [==============================] - 0s 2ms/step - loss: 269.1672 - mae: 269.6672 - lr: 1.7783e-08\n",
            "Epoch 7/100\n",
            "1/1 [==============================] - 0s 2ms/step - loss: 268.9770 - mae: 269.4770 - lr: 1.9953e-08\n",
            "Epoch 8/100\n",
            "1/1 [==============================] - 0s 3ms/step - loss: 268.7423 - mae: 269.2423 - lr: 2.2387e-08\n",
            "Epoch 9/100\n",
            "1/1 [==============================] - 0s 2ms/step - loss: 268.4565 - mae: 268.9565 - lr: 2.5119e-08\n",
            "Epoch 10/100\n",
            "1/1 [==============================] - 0s 2ms/step - loss: 268.1111 - mae: 268.6111 - lr: 2.8184e-08\n",
            "Epoch 11/100\n",
            "1/1 [==============================] - 0s 2ms/step - loss: 267.6956 - mae: 268.1956 - lr: 3.1623e-08\n",
            "Epoch 12/100\n",
            "1/1 [==============================] - 0s 2ms/step - loss: 267.2000 - mae: 267.7000 - lr: 3.5481e-08\n",
            "Epoch 13/100\n",
            "1/1 [==============================] - 0s 2ms/step - loss: 266.6155 - mae: 267.1155 - lr: 3.9811e-08\n",
            "Epoch 14/100\n",
            "1/1 [==============================] - 0s 2ms/step - loss: 265.9322 - mae: 266.4322 - lr: 4.4668e-08\n",
            "Epoch 15/100\n",
            "1/1 [==============================] - 0s 2ms/step - loss: 265.1415 - mae: 265.6415 - lr: 5.0119e-08\n",
            "Epoch 16/100\n",
            "1/1 [==============================] - 0s 4ms/step - loss: 264.2359 - mae: 264.7359 - lr: 5.6234e-08\n",
            "Epoch 17/100\n",
            "1/1 [==============================] - 0s 2ms/step - loss: 263.2068 - mae: 263.7068 - lr: 6.3096e-08\n",
            "Epoch 18/100\n",
            "1/1 [==============================] - 0s 2ms/step - loss: 262.0502 - mae: 262.5502 - lr: 7.0795e-08\n",
            "Epoch 19/100\n",
            "1/1 [==============================] - 0s 3ms/step - loss: 260.7657 - mae: 261.2658 - lr: 7.9433e-08\n",
            "Epoch 20/100\n",
            "1/1 [==============================] - 0s 2ms/step - loss: 259.3435 - mae: 259.8435 - lr: 8.9125e-08\n",
            "Epoch 21/100\n",
            "1/1 [==============================] - 0s 2ms/step - loss: 257.7725 - mae: 258.2725 - lr: 1.0000e-07\n",
            "Epoch 22/100\n",
            "1/1 [==============================] - 0s 2ms/step - loss: 256.0388 - mae: 256.5388 - lr: 1.1220e-07\n",
            "Epoch 23/100\n",
            "1/1 [==============================] - 0s 2ms/step - loss: 254.1299 - mae: 254.6300 - lr: 1.2589e-07\n",
            "Epoch 24/100\n",
            "1/1 [==============================] - 0s 2ms/step - loss: 252.0453 - mae: 252.5453 - lr: 1.4125e-07\n",
            "Epoch 25/100\n",
            "1/1 [==============================] - 0s 4ms/step - loss: 249.8105 - mae: 250.3105 - lr: 1.5849e-07\n",
            "Epoch 26/100\n",
            "1/1 [==============================] - 0s 2ms/step - loss: 247.4718 - mae: 247.9718 - lr: 1.7783e-07\n",
            "Epoch 27/100\n",
            "1/1 [==============================] - 0s 2ms/step - loss: 245.0914 - mae: 245.5914 - lr: 1.9953e-07\n",
            "Epoch 28/100\n",
            "1/1 [==============================] - 0s 2ms/step - loss: 242.6604 - mae: 243.1604 - lr: 2.2387e-07\n",
            "Epoch 29/100\n",
            "1/1 [==============================] - 0s 3ms/step - loss: 240.1822 - mae: 240.6822 - lr: 2.5119e-07\n",
            "Epoch 30/100\n",
            "1/1 [==============================] - 0s 2ms/step - loss: 237.6542 - mae: 238.1542 - lr: 2.8184e-07\n",
            "Epoch 31/100\n",
            "1/1 [==============================] - 0s 3ms/step - loss: 235.0784 - mae: 235.5784 - lr: 3.1623e-07\n",
            "Epoch 32/100\n",
            "1/1 [==============================] - 0s 2ms/step - loss: 232.4731 - mae: 232.9731 - lr: 3.5481e-07\n",
            "Epoch 33/100\n",
            "1/1 [==============================] - 0s 2ms/step - loss: 229.8757 - mae: 230.3757 - lr: 3.9811e-07\n",
            "Epoch 34/100\n",
            "1/1 [==============================] - 0s 2ms/step - loss: 227.2506 - mae: 227.7506 - lr: 4.4668e-07\n",
            "Epoch 35/100\n",
            "1/1 [==============================] - 0s 2ms/step - loss: 224.5364 - mae: 225.0364 - lr: 5.0119e-07\n",
            "Epoch 36/100\n",
            "1/1 [==============================] - 0s 2ms/step - loss: 221.6905 - mae: 222.1904 - lr: 5.6234e-07\n",
            "Epoch 37/100\n",
            "1/1 [==============================] - 0s 2ms/step - loss: 218.6730 - mae: 219.1730 - lr: 6.3096e-07\n",
            "Epoch 38/100\n",
            "1/1 [==============================] - 0s 2ms/step - loss: 215.4415 - mae: 215.9415 - lr: 7.0795e-07\n",
            "Epoch 39/100\n",
            "1/1 [==============================] - 0s 2ms/step - loss: 211.9439 - mae: 212.4439 - lr: 7.9433e-07\n",
            "Epoch 40/100\n",
            "1/1 [==============================] - 0s 2ms/step - loss: 208.1123 - mae: 208.6123 - lr: 8.9125e-07\n",
            "Epoch 41/100\n",
            "1/1 [==============================] - 0s 2ms/step - loss: 203.8433 - mae: 204.3433 - lr: 1.0000e-06\n",
            "Epoch 42/100\n",
            "1/1 [==============================] - 0s 2ms/step - loss: 198.9405 - mae: 199.4405 - lr: 1.1220e-06\n",
            "Epoch 43/100\n",
            "1/1 [==============================] - 0s 2ms/step - loss: 192.8706 - mae: 193.3706 - lr: 1.2589e-06\n",
            "Epoch 44/100\n",
            "1/1 [==============================] - 0s 2ms/step - loss: 183.1050 - mae: 183.6050 - lr: 1.4125e-06\n",
            "Epoch 45/100\n",
            "1/1 [==============================] - 0s 2ms/step - loss: 167.4819 - mae: 167.9819 - lr: 1.5849e-06\n",
            "Epoch 46/100\n",
            "1/1 [==============================] - 0s 2ms/step - loss: 160.7202 - mae: 161.2202 - lr: 1.7783e-06\n",
            "Epoch 47/100\n",
            "1/1 [==============================] - 0s 2ms/step - loss: 149.7819 - mae: 150.2819 - lr: 1.9953e-06\n",
            "Epoch 48/100\n",
            "1/1 [==============================] - 0s 2ms/step - loss: 139.0860 - mae: 139.5860 - lr: 2.2387e-06\n",
            "Epoch 49/100\n",
            "1/1 [==============================] - 0s 2ms/step - loss: 127.3645 - mae: 127.8645 - lr: 2.5119e-06\n",
            "Epoch 50/100\n",
            "1/1 [==============================] - 0s 2ms/step - loss: 113.3800 - mae: 113.8798 - lr: 2.8184e-06\n",
            "Epoch 51/100\n",
            "1/1 [==============================] - 0s 2ms/step - loss: 95.1943 - mae: 95.6936 - lr: 3.1623e-06\n",
            "Epoch 52/100\n",
            "1/1 [==============================] - 0s 2ms/step - loss: 76.3811 - mae: 76.8764 - lr: 3.5481e-06\n",
            "Epoch 53/100\n",
            "1/1 [==============================] - 0s 2ms/step - loss: 74.2338 - mae: 74.7308 - lr: 3.9811e-06\n",
            "Epoch 54/100\n",
            "1/1 [==============================] - 0s 2ms/step - loss: 75.7110 - mae: 76.2106 - lr: 4.4668e-06\n",
            "Epoch 55/100\n",
            "1/1 [==============================] - 0s 2ms/step - loss: 77.2917 - mae: 77.7915 - lr: 5.0119e-06\n",
            "Epoch 56/100\n",
            "1/1 [==============================] - 0s 2ms/step - loss: 78.5472 - mae: 79.0472 - lr: 5.6234e-06\n",
            "Epoch 57/100\n",
            "1/1 [==============================] - 0s 2ms/step - loss: 79.3960 - mae: 79.8958 - lr: 6.3096e-06\n",
            "Epoch 58/100\n",
            "1/1 [==============================] - 0s 2ms/step - loss: 79.8792 - mae: 80.3788 - lr: 7.0795e-06\n",
            "Epoch 59/100\n",
            "1/1 [==============================] - 0s 2ms/step - loss: 80.0558 - mae: 80.5557 - lr: 7.9433e-06\n",
            "Epoch 60/100\n",
            "1/1 [==============================] - 0s 2ms/step - loss: 79.9269 - mae: 80.4266 - lr: 8.9125e-06\n",
            "Epoch 61/100\n",
            "1/1 [==============================] - 0s 2ms/step - loss: 79.4507 - mae: 79.9505 - lr: 1.0000e-05\n",
            "Epoch 62/100\n",
            "1/1 [==============================] - 0s 2ms/step - loss: 78.5606 - mae: 79.0603 - lr: 1.1220e-05\n",
            "Epoch 63/100\n",
            "1/1 [==============================] - 0s 2ms/step - loss: 77.4033 - mae: 77.9031 - lr: 1.2589e-05\n",
            "Epoch 64/100\n",
            "1/1 [==============================] - 0s 2ms/step - loss: 75.9234 - mae: 76.4233 - lr: 1.4125e-05\n",
            "Epoch 65/100\n",
            "1/1 [==============================] - 0s 2ms/step - loss: 74.1575 - mae: 74.6573 - lr: 1.5849e-05\n",
            "Epoch 66/100\n",
            "1/1 [==============================] - 0s 2ms/step - loss: 72.2453 - mae: 72.7433 - lr: 1.7783e-05\n",
            "Epoch 67/100\n",
            "1/1 [==============================] - 0s 2ms/step - loss: 71.6741 - mae: 72.1728 - lr: 1.9953e-05\n",
            "Epoch 68/100\n",
            "1/1 [==============================] - 0s 2ms/step - loss: 73.3176 - mae: 73.8148 - lr: 2.2387e-05\n",
            "Epoch 69/100\n",
            "1/1 [==============================] - 0s 2ms/step - loss: 71.6891 - mae: 72.1839 - lr: 2.5119e-05\n",
            "Epoch 70/100\n",
            "1/1 [==============================] - 0s 2ms/step - loss: 70.0735 - mae: 70.5726 - lr: 2.8184e-05\n",
            "Epoch 71/100\n",
            "1/1 [==============================] - 0s 2ms/step - loss: 70.0393 - mae: 70.5372 - lr: 3.1623e-05\n",
            "Epoch 72/100\n",
            "1/1 [==============================] - 0s 2ms/step - loss: 69.8508 - mae: 70.3494 - lr: 3.5481e-05\n",
            "Epoch 73/100\n",
            "1/1 [==============================] - 0s 2ms/step - loss: 67.9041 - mae: 68.4027 - lr: 3.9811e-05\n",
            "Epoch 74/100\n",
            "1/1 [==============================] - 0s 4ms/step - loss: 80.3013 - mae: 80.7968 - lr: 4.4668e-05\n",
            "Epoch 75/100\n",
            "1/1 [==============================] - 0s 2ms/step - loss: 76.6110 - mae: 77.1110 - lr: 5.0119e-05\n",
            "Epoch 76/100\n",
            "1/1 [==============================] - 0s 3ms/step - loss: 81.1838 - mae: 81.6822 - lr: 5.6234e-05\n",
            "Epoch 77/100\n",
            "1/1 [==============================] - 0s 2ms/step - loss: 73.7495 - mae: 74.2494 - lr: 6.3096e-05\n",
            "Epoch 78/100\n",
            "1/1 [==============================] - 0s 2ms/step - loss: 69.9739 - mae: 70.4737 - lr: 7.0795e-05\n",
            "Epoch 79/100\n",
            "1/1 [==============================] - 0s 2ms/step - loss: 86.8916 - mae: 87.3908 - lr: 7.9433e-05\n",
            "Epoch 80/100\n",
            "1/1 [==============================] - 0s 2ms/step - loss: 72.5867 - mae: 73.0864 - lr: 8.9125e-05\n",
            "Epoch 81/100\n",
            "1/1 [==============================] - 0s 2ms/step - loss: 78.2370 - mae: 78.7368 - lr: 1.0000e-04\n",
            "Epoch 82/100\n",
            "1/1 [==============================] - 0s 2ms/step - loss: 75.3212 - mae: 75.8210 - lr: 1.1220e-04\n",
            "Epoch 83/100\n",
            "1/1 [==============================] - 0s 2ms/step - loss: 70.7746 - mae: 71.2683 - lr: 1.2589e-04\n",
            "Epoch 84/100\n",
            "1/1 [==============================] - 0s 2ms/step - loss: 68.7711 - mae: 69.2699 - lr: 1.4125e-04\n",
            "Epoch 85/100\n",
            "1/1 [==============================] - 0s 2ms/step - loss: 71.4741 - mae: 71.9706 - lr: 1.5849e-04\n",
            "Epoch 86/100\n",
            "1/1 [==============================] - 0s 2ms/step - loss: 73.5861 - mae: 74.0859 - lr: 1.7783e-04\n",
            "Epoch 87/100\n",
            "1/1 [==============================] - 0s 2ms/step - loss: 72.9327 - mae: 73.4325 - lr: 1.9953e-04\n",
            "Epoch 88/100\n",
            "1/1 [==============================] - 0s 2ms/step - loss: 69.6255 - mae: 70.1213 - lr: 2.2387e-04\n",
            "Epoch 89/100\n",
            "1/1 [==============================] - 0s 2ms/step - loss: 67.6787 - mae: 68.1779 - lr: 2.5119e-04\n",
            "Epoch 90/100\n",
            "1/1 [==============================] - 0s 2ms/step - loss: 68.2559 - mae: 68.7549 - lr: 2.8184e-04\n",
            "Epoch 91/100\n",
            "1/1 [==============================] - 0s 2ms/step - loss: 78.8141 - mae: 79.3106 - lr: 3.1623e-04\n",
            "Epoch 92/100\n",
            "1/1 [==============================] - 0s 2ms/step - loss: 136.2611 - mae: 136.7607 - lr: 3.5481e-04\n",
            "Epoch 93/100\n",
            "1/1 [==============================] - 0s 4ms/step - loss: 70.0024 - mae: 70.4965 - lr: 3.9811e-04\n",
            "Epoch 94/100\n",
            "1/1 [==============================] - 0s 2ms/step - loss: 110.1998 - mae: 110.6993 - lr: 4.4668e-04\n",
            "Epoch 95/100\n",
            "1/1 [==============================] - 0s 2ms/step - loss: 118.3709 - mae: 118.8710 - lr: 5.0119e-04\n",
            "Epoch 96/100\n",
            "1/1 [==============================] - 0s 2ms/step - loss: 72.6451 - mae: 73.1451 - lr: 5.6234e-04\n",
            "Epoch 97/100\n",
            "1/1 [==============================] - 0s 2ms/step - loss: 117.5780 - mae: 118.0779 - lr: 6.3096e-04\n",
            "Epoch 98/100\n",
            "1/1 [==============================] - 0s 2ms/step - loss: 81.4628 - mae: 81.9628 - lr: 7.0795e-04\n",
            "Epoch 99/100\n",
            "1/1 [==============================] - 0s 2ms/step - loss: 105.4503 - mae: 105.9502 - lr: 7.9433e-04\n",
            "Epoch 100/100\n",
            "1/1 [==============================] - 0s 2ms/step - loss: 81.7803 - mae: 82.2790 - lr: 8.9125e-04\n"
          ],
          "name": "stdout"
        }
      ]
    },
    {
      "cell_type": "markdown",
      "metadata": {
        "id": "a8fqBHEEjkTu",
        "colab_type": "text"
      },
      "source": [
        "Plotting the results of the limited run of the model: "
      ]
    },
    {
      "cell_type": "code",
      "metadata": {
        "id": "JR7rAfAOZCuT",
        "colab_type": "code",
        "outputId": "c36700a0-07d2-4afc-f8a5-d67d1b97013f",
        "colab": {
          "base_uri": "https://localhost:8080/",
          "height": 346
        }
      },
      "source": [
        "plt.title(\"Loss vs Learning Rate\")\n",
        "plt.xlabel(\"Loss\")\n",
        "plt.ylabel(\"Learning Rate\")\n",
        "plt.semilogx(history.history[\"lr\"], history.history[\"loss\"])\n",
        "#plt.axis([1e-8, 1e-3,135,250])"
      ],
      "execution_count": 24,
      "outputs": [
        {
          "output_type": "execute_result",
          "data": {
            "text/plain": [
              "[<matplotlib.lines.Line2D at 0x7f3e82620048>]"
            ]
          },
          "metadata": {
            "tags": []
          },
          "execution_count": 24
        },
        {
          "output_type": "display_data",
          "data": {
            "image/png": "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\n",
            "text/plain": [
              "<Figure size 432x288 with 1 Axes>"
            ]
          },
          "metadata": {
            "tags": []
          }
        }
      ]
    },
    {
      "cell_type": "markdown",
      "metadata": {
        "id": "ie2McVaijnwe",
        "colab_type": "text"
      },
      "source": [
        "There's a huge dip in the learning rate somewhere between $10^-7$ and $10^-6$, which helps the gradient descent process in training, helping the model to learn quickly and more effectively, so that can be fixed as the learning rate, and the model is run completely this time: "
      ]
    },
    {
      "cell_type": "code",
      "metadata": {
        "id": "M-xHEqV1cBf5",
        "colab_type": "code",
        "outputId": "b748cab1-ef76-4eb1-bbe3-06958791a9bb",
        "colab": {
          "base_uri": "https://localhost:8080/",
          "height": 1000
        }
      },
      "source": [
        "tf.keras.backend.clear_session()\n",
        "tf.random.set_seed(51)\n",
        "np.random.seed(51)\n",
        "model = tf.keras.models.Sequential([\n",
        "  tf.keras.layers.Conv1D(filters=60, kernel_size=5,\n",
        "                      strides=1, padding=\"causal\",\n",
        "                      activation=\"relu\",\n",
        "                      input_shape=[None, 1]),\n",
        "  tf.keras.layers.LSTM(256, return_sequences=True),\n",
        "  tf.keras.layers.LSTM(128, return_sequences=True),\n",
        "  tf.keras.layers.Dense(128, activation=\"relu\"),\n",
        "  tf.keras.layers.Dense(64, activation=\"relu\"),\n",
        "  tf.keras.layers.Dense(1),\n",
        "  tf.keras.layers.Lambda(lambda x: x * 500)\n",
        "])\n",
        "\n",
        "\n",
        "\n",
        "optimizer = tf.keras.optimizers.SGD(lr=3e-7, momentum=0.9)\n",
        "model.compile(loss=tf.keras.losses.Huber(),\n",
        "              optimizer=optimizer,\n",
        "              metrics=[\"mae\"])\n",
        "history = model.fit(train_set,epochs=350)"
      ],
      "execution_count": 26,
      "outputs": [
        {
          "output_type": "stream",
          "text": [
            "Epoch 1/350\n",
            "1/1 [==============================] - 0s 7ms/step - loss: 330.9964 - mae: 331.4964\n",
            "Epoch 2/350\n",
            "1/1 [==============================] - 0s 901us/step - loss: 314.5646 - mae: 315.0646\n",
            "Epoch 3/350\n",
            "1/1 [==============================] - 0s 849us/step - loss: 295.7275 - mae: 296.2275\n",
            "Epoch 4/350\n",
            "1/1 [==============================] - 0s 986us/step - loss: 277.2317 - mae: 277.7317\n",
            "Epoch 5/350\n",
            "1/1 [==============================] - 0s 835us/step - loss: 244.2985 - mae: 244.7985\n",
            "Epoch 6/350\n",
            "1/1 [==============================] - 0s 860us/step - loss: 225.8815 - mae: 226.3815\n",
            "Epoch 7/350\n",
            "1/1 [==============================] - 0s 836us/step - loss: 208.5272 - mae: 209.0272\n",
            "Epoch 8/350\n",
            "1/1 [==============================] - 0s 2ms/step - loss: 184.0172 - mae: 184.5172\n",
            "Epoch 9/350\n",
            "1/1 [==============================] - 0s 895us/step - loss: 158.5788 - mae: 159.0788\n",
            "Epoch 10/350\n",
            "1/1 [==============================] - 0s 988us/step - loss: 140.6364 - mae: 141.1363\n",
            "Epoch 11/350\n",
            "1/1 [==============================] - 0s 832us/step - loss: 122.3179 - mae: 122.8178\n",
            "Epoch 12/350\n",
            "1/1 [==============================] - 0s 937us/step - loss: 107.8851 - mae: 108.3848\n",
            "Epoch 13/350\n",
            "1/1 [==============================] - 0s 1ms/step - loss: 95.0206 - mae: 95.5156\n",
            "Epoch 14/350\n",
            "1/1 [==============================] - 0s 2ms/step - loss: 86.3876 - mae: 86.8856\n",
            "Epoch 15/350\n",
            "1/1 [==============================] - 0s 887us/step - loss: 82.9409 - mae: 83.4384\n",
            "Epoch 16/350\n",
            "1/1 [==============================] - 0s 2ms/step - loss: 82.7168 - mae: 83.2151\n",
            "Epoch 17/350\n",
            "1/1 [==============================] - 0s 3ms/step - loss: 83.1248 - mae: 83.6245\n",
            "Epoch 18/350\n",
            "1/1 [==============================] - 0s 906us/step - loss: 83.5197 - mae: 84.0196\n",
            "Epoch 19/350\n",
            "1/1 [==============================] - 0s 903us/step - loss: 83.8522 - mae: 84.3519\n",
            "Epoch 20/350\n",
            "1/1 [==============================] - 0s 934us/step - loss: 84.0759 - mae: 84.5757\n",
            "Epoch 21/350\n",
            "1/1 [==============================] - 0s 934us/step - loss: 84.1092 - mae: 84.6088\n",
            "Epoch 22/350\n",
            "1/1 [==============================] - 0s 875us/step - loss: 84.3533 - mae: 84.8530\n",
            "Epoch 23/350\n",
            "1/1 [==============================] - 0s 846us/step - loss: 83.7031 - mae: 84.2028\n",
            "Epoch 24/350\n",
            "1/1 [==============================] - 0s 801us/step - loss: 83.4816 - mae: 83.9814\n",
            "Epoch 25/350\n",
            "1/1 [==============================] - 0s 965us/step - loss: 82.8561 - mae: 83.3559\n",
            "Epoch 26/350\n",
            "1/1 [==============================] - 0s 925us/step - loss: 81.0803 - mae: 81.5801\n",
            "Epoch 27/350\n",
            "1/1 [==============================] - 0s 839us/step - loss: 80.9281 - mae: 81.4280\n",
            "Epoch 28/350\n",
            "1/1 [==============================] - 0s 863us/step - loss: 79.9518 - mae: 80.4517\n",
            "Epoch 29/350\n",
            "1/1 [==============================] - 0s 844us/step - loss: 75.8310 - mae: 76.3308\n",
            "Epoch 30/350\n",
            "1/1 [==============================] - 0s 1ms/step - loss: 76.3802 - mae: 76.8800\n",
            "Epoch 31/350\n",
            "1/1 [==============================] - 0s 861us/step - loss: 75.8918 - mae: 76.3911\n",
            "Epoch 32/350\n",
            "1/1 [==============================] - 0s 827us/step - loss: 75.1222 - mae: 75.6218\n",
            "Epoch 33/350\n",
            "1/1 [==============================] - 0s 934us/step - loss: 73.8025 - mae: 74.3014\n",
            "Epoch 34/350\n",
            "1/1 [==============================] - 0s 885us/step - loss: 72.2042 - mae: 72.7029\n",
            "Epoch 35/350\n",
            "1/1 [==============================] - 0s 886us/step - loss: 71.1216 - mae: 71.6201\n",
            "Epoch 36/350\n",
            "1/1 [==============================] - 0s 1ms/step - loss: 70.9432 - mae: 71.4415\n",
            "Epoch 37/350\n",
            "1/1 [==============================] - 0s 847us/step - loss: 69.3969 - mae: 69.8943\n",
            "Epoch 38/350\n",
            "1/1 [==============================] - 0s 1ms/step - loss: 74.2099 - mae: 74.7096\n",
            "Epoch 39/350\n",
            "1/1 [==============================] - 0s 891us/step - loss: 68.2733 - mae: 68.7698\n",
            "Epoch 40/350\n",
            "1/1 [==============================] - 0s 841us/step - loss: 67.8153 - mae: 68.3126\n",
            "Epoch 41/350\n",
            "1/1 [==============================] - 0s 996us/step - loss: 68.7493 - mae: 69.2475\n",
            "Epoch 42/350\n",
            "1/1 [==============================] - 0s 868us/step - loss: 74.1603 - mae: 74.6558\n",
            "Epoch 43/350\n",
            "1/1 [==============================] - 0s 911us/step - loss: 74.3650 - mae: 74.8614\n",
            "Epoch 44/350\n",
            "1/1 [==============================] - 0s 816us/step - loss: 73.2334 - mae: 73.7299\n",
            "Epoch 45/350\n",
            "1/1 [==============================] - 0s 916us/step - loss: 71.6029 - mae: 72.0986\n",
            "Epoch 46/350\n",
            "1/1 [==============================] - 0s 812us/step - loss: 70.1163 - mae: 70.6117\n",
            "Epoch 47/350\n",
            "1/1 [==============================] - 0s 948us/step - loss: 69.1098 - mae: 69.6061\n",
            "Epoch 48/350\n",
            "1/1 [==============================] - 0s 896us/step - loss: 68.5628 - mae: 69.0604\n",
            "Epoch 49/350\n",
            "1/1 [==============================] - 0s 1ms/step - loss: 68.3276 - mae: 68.8258\n",
            "Epoch 50/350\n",
            "1/1 [==============================] - 0s 1ms/step - loss: 68.2311 - mae: 68.7293\n",
            "Epoch 51/350\n",
            "1/1 [==============================] - 0s 914us/step - loss: 68.1296 - mae: 68.6283\n",
            "Epoch 52/350\n",
            "1/1 [==============================] - 0s 1ms/step - loss: 67.8976 - mae: 68.3964\n",
            "Epoch 53/350\n",
            "1/1 [==============================] - 0s 3ms/step - loss: 67.4664 - mae: 67.9652\n",
            "Epoch 54/350\n",
            "1/1 [==============================] - 0s 969us/step - loss: 66.8248 - mae: 67.3236\n",
            "Epoch 55/350\n",
            "1/1 [==============================] - 0s 1ms/step - loss: 66.0212 - mae: 66.5196\n",
            "Epoch 56/350\n",
            "1/1 [==============================] - 0s 1ms/step - loss: 65.1729 - mae: 65.6703\n",
            "Epoch 57/350\n",
            "1/1 [==============================] - 0s 930us/step - loss: 64.4923 - mae: 64.9882\n",
            "Epoch 58/350\n",
            "1/1 [==============================] - 0s 898us/step - loss: 64.1666 - mae: 64.6619\n",
            "Epoch 59/350\n",
            "1/1 [==============================] - 0s 1ms/step - loss: 64.0660 - mae: 64.5621\n",
            "Epoch 60/350\n",
            "1/1 [==============================] - 0s 908us/step - loss: 63.8891 - mae: 64.3844\n",
            "Epoch 61/350\n",
            "1/1 [==============================] - 0s 939us/step - loss: 63.4754 - mae: 63.9706\n",
            "Epoch 62/350\n",
            "1/1 [==============================] - 0s 1ms/step - loss: 62.8678 - mae: 63.3642\n",
            "Epoch 63/350\n",
            "1/1 [==============================] - 0s 797us/step - loss: 62.2414 - mae: 62.7368\n",
            "Epoch 64/350\n",
            "1/1 [==============================] - 0s 846us/step - loss: 61.7728 - mae: 62.2685\n",
            "Epoch 65/350\n",
            "1/1 [==============================] - 0s 1ms/step - loss: 61.4867 - mae: 61.9826\n",
            "Epoch 66/350\n",
            "1/1 [==============================] - 0s 855us/step - loss: 61.2714 - mae: 61.7683\n",
            "Epoch 67/350\n",
            "1/1 [==============================] - 0s 901us/step - loss: 60.9952 - mae: 61.4918\n",
            "Epoch 68/350\n",
            "1/1 [==============================] - 0s 1ms/step - loss: 60.6046 - mae: 61.1010\n",
            "Epoch 69/350\n",
            "1/1 [==============================] - 0s 816us/step - loss: 60.1323 - mae: 60.6287\n",
            "Epoch 70/350\n",
            "1/1 [==============================] - 0s 1ms/step - loss: 59.6627 - mae: 60.1580\n",
            "Epoch 71/350\n",
            "1/1 [==============================] - 0s 3ms/step - loss: 59.2721 - mae: 59.7681\n",
            "Epoch 72/350\n",
            "1/1 [==============================] - 0s 827us/step - loss: 58.9563 - mae: 59.4512\n",
            "Epoch 73/350\n",
            "1/1 [==============================] - 0s 1ms/step - loss: 58.6449 - mae: 59.1397\n",
            "Epoch 74/350\n",
            "1/1 [==============================] - 0s 877us/step - loss: 58.2563 - mae: 58.7510\n",
            "Epoch 75/350\n",
            "1/1 [==============================] - 0s 974us/step - loss: 57.7740 - mae: 58.2687\n",
            "Epoch 76/350\n",
            "1/1 [==============================] - 0s 859us/step - loss: 57.2690 - mae: 57.7639\n",
            "Epoch 77/350\n",
            "1/1 [==============================] - 0s 1ms/step - loss: 56.8260 - mae: 57.3211\n",
            "Epoch 78/350\n",
            "1/1 [==============================] - 0s 958us/step - loss: 56.4497 - mae: 56.9448\n",
            "Epoch 79/350\n",
            "1/1 [==============================] - 0s 1ms/step - loss: 56.0739 - mae: 56.5695\n",
            "Epoch 80/350\n",
            "1/1 [==============================] - 0s 854us/step - loss: 55.6480 - mae: 56.1432\n",
            "Epoch 81/350\n",
            "1/1 [==============================] - 0s 857us/step - loss: 55.1898 - mae: 55.6851\n",
            "Epoch 82/350\n",
            "1/1 [==============================] - 0s 832us/step - loss: 54.7491 - mae: 55.2432\n",
            "Epoch 83/350\n",
            "1/1 [==============================] - 0s 3ms/step - loss: 54.3054 - mae: 54.8002\n",
            "Epoch 84/350\n",
            "1/1 [==============================] - 0s 1ms/step - loss: 53.7105 - mae: 54.2044\n",
            "Epoch 85/350\n",
            "1/1 [==============================] - 0s 870us/step - loss: 53.3816 - mae: 53.8757\n",
            "Epoch 86/350\n",
            "1/1 [==============================] - 0s 926us/step - loss: 52.3740 - mae: 52.8685\n",
            "Epoch 87/350\n",
            "1/1 [==============================] - 0s 1ms/step - loss: 52.0319 - mae: 52.5278\n",
            "Epoch 88/350\n",
            "1/1 [==============================] - 0s 894us/step - loss: 52.3477 - mae: 52.8423\n",
            "Epoch 89/350\n",
            "1/1 [==============================] - 0s 1ms/step - loss: 51.9316 - mae: 52.4285\n",
            "Epoch 90/350\n",
            "1/1 [==============================] - 0s 951us/step - loss: 51.3193 - mae: 51.8153\n",
            "Epoch 91/350\n",
            "1/1 [==============================] - 0s 1ms/step - loss: 50.5385 - mae: 51.0350\n",
            "Epoch 92/350\n",
            "1/1 [==============================] - 0s 1ms/step - loss: 50.1867 - mae: 50.6802\n",
            "Epoch 93/350\n",
            "1/1 [==============================] - 0s 853us/step - loss: 50.0119 - mae: 50.5058\n",
            "Epoch 94/350\n",
            "1/1 [==============================] - 0s 929us/step - loss: 49.6269 - mae: 50.1216\n",
            "Epoch 95/350\n",
            "1/1 [==============================] - 0s 833us/step - loss: 49.5743 - mae: 50.0682\n",
            "Epoch 96/350\n",
            "1/1 [==============================] - 0s 816us/step - loss: 49.5271 - mae: 50.0234\n",
            "Epoch 97/350\n",
            "1/1 [==============================] - 0s 804us/step - loss: 48.4839 - mae: 48.9805\n",
            "Epoch 98/350\n",
            "1/1 [==============================] - 0s 823us/step - loss: 50.8432 - mae: 51.3370\n",
            "Epoch 99/350\n",
            "1/1 [==============================] - 0s 870us/step - loss: 49.1258 - mae: 49.6199\n",
            "Epoch 100/350\n",
            "1/1 [==============================] - 0s 1ms/step - loss: 49.5363 - mae: 50.0357\n",
            "Epoch 101/350\n",
            "1/1 [==============================] - 0s 927us/step - loss: 48.9045 - mae: 49.4025\n",
            "Epoch 102/350\n",
            "1/1 [==============================] - 0s 833us/step - loss: 47.7830 - mae: 48.2795\n",
            "Epoch 103/350\n",
            "1/1 [==============================] - 0s 844us/step - loss: 47.8659 - mae: 48.3605\n",
            "Epoch 104/350\n",
            "1/1 [==============================] - 0s 1ms/step - loss: 48.0967 - mae: 48.5908\n",
            "Epoch 105/350\n",
            "1/1 [==============================] - 0s 832us/step - loss: 46.6607 - mae: 47.1546\n",
            "Epoch 106/350\n",
            "1/1 [==============================] - 0s 829us/step - loss: 46.3943 - mae: 46.8911\n",
            "Epoch 107/350\n",
            "1/1 [==============================] - 0s 2ms/step - loss: 46.6688 - mae: 47.1664\n",
            "Epoch 108/350\n",
            "1/1 [==============================] - 0s 888us/step - loss: 45.7252 - mae: 46.2220\n",
            "Epoch 109/350\n",
            "1/1 [==============================] - 0s 815us/step - loss: 45.1601 - mae: 45.6544\n",
            "Epoch 110/350\n",
            "1/1 [==============================] - 0s 798us/step - loss: 45.4529 - mae: 45.9467\n",
            "Epoch 111/350\n",
            "1/1 [==============================] - 0s 984us/step - loss: 44.2874 - mae: 44.7811\n",
            "Epoch 112/350\n",
            "1/1 [==============================] - 0s 829us/step - loss: 44.3002 - mae: 44.7971\n",
            "Epoch 113/350\n",
            "1/1 [==============================] - 0s 847us/step - loss: 44.0849 - mae: 44.5822\n",
            "Epoch 114/350\n",
            "1/1 [==============================] - 0s 800us/step - loss: 43.2763 - mae: 43.7703\n",
            "Epoch 115/350\n",
            "1/1 [==============================] - 0s 836us/step - loss: 43.2319 - mae: 43.7251\n",
            "Epoch 116/350\n",
            "1/1 [==============================] - 0s 783us/step - loss: 42.9662 - mae: 43.4595\n",
            "Epoch 117/350\n",
            "1/1 [==============================] - 0s 1ms/step - loss: 42.2990 - mae: 42.7936\n",
            "Epoch 118/350\n",
            "1/1 [==============================] - 0s 1ms/step - loss: 42.2815 - mae: 42.7769\n",
            "Epoch 119/350\n",
            "1/1 [==============================] - 0s 1ms/step - loss: 41.8851 - mae: 42.3806\n",
            "Epoch 120/350\n",
            "1/1 [==============================] - 0s 949us/step - loss: 41.3776 - mae: 41.8715\n",
            "Epoch 121/350\n",
            "1/1 [==============================] - 0s 1ms/step - loss: 41.3764 - mae: 41.8688\n",
            "Epoch 122/350\n",
            "1/1 [==============================] - 0s 1ms/step - loss: 40.7889 - mae: 41.2829\n",
            "Epoch 123/350\n",
            "1/1 [==============================] - 0s 1ms/step - loss: 40.6283 - mae: 41.1229\n",
            "Epoch 124/350\n",
            "1/1 [==============================] - 0s 1ms/step - loss: 40.2947 - mae: 40.7890\n",
            "Epoch 125/350\n",
            "1/1 [==============================] - 0s 852us/step - loss: 39.9321 - mae: 40.4259\n",
            "Epoch 126/350\n",
            "1/1 [==============================] - 0s 1ms/step - loss: 39.7507 - mae: 40.2447\n",
            "Epoch 127/350\n",
            "1/1 [==============================] - 0s 810us/step - loss: 39.2993 - mae: 39.7925\n",
            "Epoch 128/350\n",
            "1/1 [==============================] - 0s 864us/step - loss: 39.1337 - mae: 39.6277\n",
            "Epoch 129/350\n",
            "1/1 [==============================] - 0s 832us/step - loss: 38.6835 - mae: 39.1768\n",
            "Epoch 130/350\n",
            "1/1 [==============================] - 0s 816us/step - loss: 38.5428 - mae: 39.0359\n",
            "Epoch 131/350\n",
            "1/1 [==============================] - 0s 905us/step - loss: 38.1270 - mae: 38.6199\n",
            "Epoch 132/350\n",
            "1/1 [==============================] - 0s 833us/step - loss: 37.9723 - mae: 38.4654\n",
            "Epoch 133/350\n",
            "1/1 [==============================] - 0s 995us/step - loss: 37.5912 - mae: 38.0836\n",
            "Epoch 134/350\n",
            "1/1 [==============================] - 0s 843us/step - loss: 37.4250 - mae: 37.9169\n",
            "Epoch 135/350\n",
            "1/1 [==============================] - 0s 1ms/step - loss: 37.0490 - mae: 37.5418\n",
            "Epoch 136/350\n",
            "1/1 [==============================] - 0s 905us/step - loss: 36.8520 - mae: 37.3446\n",
            "Epoch 137/350\n",
            "1/1 [==============================] - 0s 1ms/step - loss: 36.5054 - mae: 36.9975\n",
            "Epoch 138/350\n",
            "1/1 [==============================] - 0s 1ms/step - loss: 36.3109 - mae: 36.8017\n",
            "Epoch 139/350\n",
            "1/1 [==============================] - 0s 908us/step - loss: 35.9967 - mae: 36.4895\n",
            "Epoch 140/350\n",
            "1/1 [==============================] - 0s 860us/step - loss: 35.7633 - mae: 36.2560\n",
            "Epoch 141/350\n",
            "1/1 [==============================] - 0s 1ms/step - loss: 35.4929 - mae: 35.9837\n",
            "Epoch 142/350\n",
            "1/1 [==============================] - 0s 860us/step - loss: 35.2190 - mae: 35.7097\n",
            "Epoch 143/350\n",
            "1/1 [==============================] - 0s 3ms/step - loss: 34.9908 - mae: 35.4830\n",
            "Epoch 144/350\n",
            "1/1 [==============================] - 0s 837us/step - loss: 34.6938 - mae: 35.1850\n",
            "Epoch 145/350\n",
            "1/1 [==============================] - 0s 854us/step - loss: 34.4815 - mae: 34.9713\n",
            "Epoch 146/350\n",
            "1/1 [==============================] - 0s 867us/step - loss: 34.1920 - mae: 34.6838\n",
            "Epoch 147/350\n",
            "1/1 [==============================] - 0s 845us/step - loss: 33.9437 - mae: 34.4352\n",
            "Epoch 148/350\n",
            "1/1 [==============================] - 0s 830us/step - loss: 33.7044 - mae: 34.1941\n",
            "Epoch 149/350\n",
            "1/1 [==============================] - 0s 940us/step - loss: 33.4281 - mae: 33.9185\n",
            "Epoch 150/350\n",
            "1/1 [==============================] - 0s 896us/step - loss: 33.2097 - mae: 33.7001\n",
            "Epoch 151/350\n",
            "1/1 [==============================] - 0s 1ms/step - loss: 32.9643 - mae: 33.4540\n",
            "Epoch 152/350\n",
            "1/1 [==============================] - 0s 848us/step - loss: 32.7344 - mae: 33.2243\n",
            "Epoch 153/350\n",
            "1/1 [==============================] - 0s 2ms/step - loss: 32.5322 - mae: 33.0223\n",
            "Epoch 154/350\n",
            "1/1 [==============================] - 0s 1ms/step - loss: 32.2988 - mae: 32.7889\n",
            "Epoch 155/350\n",
            "1/1 [==============================] - 0s 849us/step - loss: 32.0814 - mae: 32.5710\n",
            "Epoch 156/350\n",
            "1/1 [==============================] - 0s 792us/step - loss: 31.8651 - mae: 32.3541\n",
            "Epoch 157/350\n",
            "1/1 [==============================] - 0s 1ms/step - loss: 31.6251 - mae: 32.1148\n",
            "Epoch 158/350\n",
            "1/1 [==============================] - 0s 943us/step - loss: 31.4038 - mae: 31.8934\n",
            "Epoch 159/350\n",
            "1/1 [==============================] - 0s 1ms/step - loss: 31.2006 - mae: 31.6898\n",
            "Epoch 160/350\n",
            "1/1 [==============================] - 0s 880us/step - loss: 30.9869 - mae: 31.4768\n",
            "Epoch 161/350\n",
            "1/1 [==============================] - 0s 827us/step - loss: 30.7756 - mae: 31.2648\n",
            "Epoch 162/350\n",
            "1/1 [==============================] - 0s 1ms/step - loss: 30.5790 - mae: 31.0677\n",
            "Epoch 163/350\n",
            "1/1 [==============================] - 0s 1ms/step - loss: 30.3793 - mae: 30.8680\n",
            "Epoch 164/350\n",
            "1/1 [==============================] - 0s 846us/step - loss: 30.1683 - mae: 30.6568\n",
            "Epoch 165/350\n",
            "1/1 [==============================] - 0s 911us/step - loss: 29.9604 - mae: 30.4488\n",
            "Epoch 166/350\n",
            "1/1 [==============================] - 0s 959us/step - loss: 29.7629 - mae: 30.2507\n",
            "Epoch 167/350\n",
            "1/1 [==============================] - 0s 817us/step - loss: 29.5713 - mae: 30.0588\n",
            "Epoch 168/350\n",
            "1/1 [==============================] - 0s 814us/step - loss: 29.3817 - mae: 29.8683\n",
            "Epoch 169/350\n",
            "1/1 [==============================] - 0s 1ms/step - loss: 29.1953 - mae: 29.6827\n",
            "Epoch 170/350\n",
            "1/1 [==============================] - 0s 5ms/step - loss: 29.0129 - mae: 29.4990\n",
            "Epoch 171/350\n",
            "1/1 [==============================] - 0s 1ms/step - loss: 28.8414 - mae: 29.3296\n",
            "Epoch 172/350\n",
            "1/1 [==============================] - 0s 1ms/step - loss: 28.6837 - mae: 29.1709\n",
            "Epoch 173/350\n",
            "1/1 [==============================] - 0s 3ms/step - loss: 28.5763 - mae: 29.0649\n",
            "Epoch 174/350\n",
            "1/1 [==============================] - 0s 1ms/step - loss: 28.4847 - mae: 28.9728\n",
            "Epoch 175/350\n",
            "1/1 [==============================] - 0s 951us/step - loss: 28.4875 - mae: 28.9769\n",
            "Epoch 176/350\n",
            "1/1 [==============================] - 0s 888us/step - loss: 28.3461 - mae: 28.8366\n",
            "Epoch 177/350\n",
            "1/1 [==============================] - 0s 1ms/step - loss: 28.1751 - mae: 28.6648\n",
            "Epoch 178/350\n",
            "1/1 [==============================] - 0s 1ms/step - loss: 27.8413 - mae: 28.3299\n",
            "Epoch 179/350\n",
            "1/1 [==============================] - 0s 898us/step - loss: 27.6223 - mae: 28.1110\n",
            "Epoch 180/350\n",
            "1/1 [==============================] - 0s 1ms/step - loss: 27.3803 - mae: 27.8672\n",
            "Epoch 181/350\n",
            "1/1 [==============================] - 0s 870us/step - loss: 27.2432 - mae: 27.7315\n",
            "Epoch 182/350\n",
            "1/1 [==============================] - 0s 1ms/step - loss: 27.1098 - mae: 27.5969\n",
            "Epoch 183/350\n",
            "1/1 [==============================] - 0s 972us/step - loss: 27.1127 - mae: 27.6016\n",
            "Epoch 184/350\n",
            "1/1 [==============================] - 0s 948us/step - loss: 27.0927 - mae: 27.5818\n",
            "Epoch 185/350\n",
            "1/1 [==============================] - 0s 1ms/step - loss: 27.1723 - mae: 27.6613\n",
            "Epoch 186/350\n",
            "1/1 [==============================] - 0s 916us/step - loss: 27.1248 - mae: 27.6148\n",
            "Epoch 187/350\n",
            "1/1 [==============================] - 0s 1ms/step - loss: 26.9403 - mae: 27.4290\n",
            "Epoch 188/350\n",
            "1/1 [==============================] - 0s 833us/step - loss: 26.6639 - mae: 27.1535\n",
            "Epoch 189/350\n",
            "1/1 [==============================] - 0s 866us/step - loss: 26.4003 - mae: 26.8891\n",
            "Epoch 190/350\n",
            "1/1 [==============================] - 0s 2ms/step - loss: 26.1689 - mae: 26.6578\n",
            "Epoch 191/350\n",
            "1/1 [==============================] - 0s 870us/step - loss: 26.0211 - mae: 26.5093\n",
            "Epoch 192/350\n",
            "1/1 [==============================] - 0s 940us/step - loss: 25.9478 - mae: 26.4370\n",
            "Epoch 193/350\n",
            "1/1 [==============================] - 0s 820us/step - loss: 25.9214 - mae: 26.4101\n",
            "Epoch 194/350\n",
            "1/1 [==============================] - 0s 897us/step - loss: 25.9442 - mae: 26.4336\n",
            "Epoch 195/350\n",
            "1/1 [==============================] - 0s 922us/step - loss: 25.8852 - mae: 26.3743\n",
            "Epoch 196/350\n",
            "1/1 [==============================] - 0s 853us/step - loss: 25.7953 - mae: 26.2847\n",
            "Epoch 197/350\n",
            "1/1 [==============================] - 0s 845us/step - loss: 25.5998 - mae: 26.0887\n",
            "Epoch 198/350\n",
            "1/1 [==============================] - 0s 1ms/step - loss: 25.4435 - mae: 25.9317\n",
            "Epoch 199/350\n",
            "1/1 [==============================] - 0s 808us/step - loss: 25.2492 - mae: 25.7377\n",
            "Epoch 200/350\n",
            "1/1 [==============================] - 0s 2ms/step - loss: 25.1572 - mae: 25.6457\n",
            "Epoch 201/350\n",
            "1/1 [==============================] - 0s 842us/step - loss: 25.0279 - mae: 25.5159\n",
            "Epoch 202/350\n",
            "1/1 [==============================] - 0s 1ms/step - loss: 25.0110 - mae: 25.4993\n",
            "Epoch 203/350\n",
            "1/1 [==============================] - 0s 889us/step - loss: 24.9164 - mae: 25.4044\n",
            "Epoch 204/350\n",
            "1/1 [==============================] - 0s 933us/step - loss: 24.9017 - mae: 25.3895\n",
            "Epoch 205/350\n",
            "1/1 [==============================] - 0s 1ms/step - loss: 24.7882 - mae: 25.2767\n",
            "Epoch 206/350\n",
            "1/1 [==============================] - 0s 842us/step - loss: 24.7230 - mae: 25.2105\n",
            "Epoch 207/350\n",
            "1/1 [==============================] - 0s 3ms/step - loss: 24.5702 - mae: 25.0586\n",
            "Epoch 208/350\n",
            "1/1 [==============================] - 0s 1ms/step - loss: 24.4855 - mae: 24.9730\n",
            "Epoch 209/350\n",
            "1/1 [==============================] - 0s 853us/step - loss: 24.3225 - mae: 24.8110\n",
            "Epoch 210/350\n",
            "1/1 [==============================] - 0s 823us/step - loss: 24.2625 - mae: 24.7502\n",
            "Epoch 211/350\n",
            "1/1 [==============================] - 0s 852us/step - loss: 24.1447 - mae: 24.6333\n",
            "Epoch 212/350\n",
            "1/1 [==============================] - 0s 1ms/step - loss: 24.1479 - mae: 24.6358\n",
            "Epoch 213/350\n",
            "1/1 [==============================] - 0s 896us/step - loss: 24.1250 - mae: 24.6137\n",
            "Epoch 214/350\n",
            "1/1 [==============================] - 0s 851us/step - loss: 24.1421 - mae: 24.6292\n",
            "Epoch 215/350\n",
            "1/1 [==============================] - 0s 968us/step - loss: 24.1542 - mae: 24.6430\n",
            "Epoch 216/350\n",
            "1/1 [==============================] - 0s 894us/step - loss: 24.0696 - mae: 24.5562\n",
            "Epoch 217/350\n",
            "1/1 [==============================] - 0s 785us/step - loss: 23.9767 - mae: 24.4654\n",
            "Epoch 218/350\n",
            "1/1 [==============================] - 0s 844us/step - loss: 23.7941 - mae: 24.2813\n",
            "Epoch 219/350\n",
            "1/1 [==============================] - 0s 828us/step - loss: 23.5880 - mae: 24.0769\n",
            "Epoch 220/350\n",
            "1/1 [==============================] - 0s 1ms/step - loss: 23.4630 - mae: 23.9504\n",
            "Epoch 221/350\n",
            "1/1 [==============================] - 0s 1ms/step - loss: 23.3420 - mae: 23.8309\n",
            "Epoch 222/350\n",
            "1/1 [==============================] - 0s 1ms/step - loss: 23.3663 - mae: 23.8535\n",
            "Epoch 223/350\n",
            "1/1 [==============================] - 0s 895us/step - loss: 23.4402 - mae: 23.9294\n",
            "Epoch 224/350\n",
            "1/1 [==============================] - 0s 1ms/step - loss: 23.5583 - mae: 24.0447\n",
            "Epoch 225/350\n",
            "1/1 [==============================] - 0s 958us/step - loss: 23.8040 - mae: 24.2940\n",
            "Epoch 226/350\n",
            "1/1 [==============================] - 0s 1ms/step - loss: 23.6769 - mae: 24.1646\n",
            "Epoch 227/350\n",
            "1/1 [==============================] - 0s 850us/step - loss: 23.6485 - mae: 24.1383\n",
            "Epoch 228/350\n",
            "1/1 [==============================] - 0s 812us/step - loss: 23.2301 - mae: 23.7164\n",
            "Epoch 229/350\n",
            "1/1 [==============================] - 0s 995us/step - loss: 22.8335 - mae: 23.3218\n",
            "Epoch 230/350\n",
            "1/1 [==============================] - 0s 848us/step - loss: 22.5997 - mae: 23.0878\n",
            "Epoch 231/350\n",
            "1/1 [==============================] - 0s 905us/step - loss: 22.3832 - mae: 22.8694\n",
            "Epoch 232/350\n",
            "1/1 [==============================] - 0s 869us/step - loss: 22.3744 - mae: 22.8622\n",
            "Epoch 233/350\n",
            "1/1 [==============================] - 0s 827us/step - loss: 22.4295 - mae: 22.9166\n",
            "Epoch 234/350\n",
            "1/1 [==============================] - 0s 2ms/step - loss: 22.8018 - mae: 23.2887\n",
            "Epoch 235/350\n",
            "1/1 [==============================] - 0s 823us/step - loss: 23.5813 - mae: 24.0721\n",
            "Epoch 236/350\n",
            "1/1 [==============================] - 0s 1ms/step - loss: 23.8725 - mae: 24.3632\n",
            "Epoch 237/350\n",
            "1/1 [==============================] - 0s 885us/step - loss: 24.0357 - mae: 24.5276\n",
            "Epoch 238/350\n",
            "1/1 [==============================] - 0s 867us/step - loss: 22.7360 - mae: 23.2229\n",
            "Epoch 239/350\n",
            "1/1 [==============================] - 0s 1ms/step - loss: 21.9273 - mae: 22.4131\n",
            "Epoch 240/350\n",
            "1/1 [==============================] - 0s 957us/step - loss: 21.6221 - mae: 22.1094\n",
            "Epoch 241/350\n",
            "1/1 [==============================] - 0s 1ms/step - loss: 21.4443 - mae: 21.9302\n",
            "Epoch 242/350\n",
            "1/1 [==============================] - 0s 1ms/step - loss: 21.3275 - mae: 21.8136\n",
            "Epoch 243/350\n",
            "1/1 [==============================] - 0s 911us/step - loss: 21.2531 - mae: 21.7377\n",
            "Epoch 244/350\n",
            "1/1 [==============================] - 0s 1ms/step - loss: 21.2476 - mae: 21.7342\n",
            "Epoch 245/350\n",
            "1/1 [==============================] - 0s 868us/step - loss: 21.3953 - mae: 21.8816\n",
            "Epoch 246/350\n",
            "1/1 [==============================] - 0s 1ms/step - loss: 22.1349 - mae: 22.6222\n",
            "Epoch 247/350\n",
            "1/1 [==============================] - 0s 965us/step - loss: 24.5444 - mae: 25.0386\n",
            "Epoch 248/350\n",
            "1/1 [==============================] - 0s 898us/step - loss: 24.7606 - mae: 25.2545\n",
            "Epoch 249/350\n",
            "1/1 [==============================] - 0s 947us/step - loss: 24.1237 - mae: 24.6177\n",
            "Epoch 250/350\n",
            "1/1 [==============================] - 0s 983us/step - loss: 21.7340 - mae: 22.2218\n",
            "Epoch 251/350\n",
            "1/1 [==============================] - 0s 973us/step - loss: 20.9120 - mae: 21.3976\n",
            "Epoch 252/350\n",
            "1/1 [==============================] - 0s 876us/step - loss: 21.0198 - mae: 21.5043\n",
            "Epoch 253/350\n",
            "1/1 [==============================] - 0s 854us/step - loss: 21.8636 - mae: 22.3515\n",
            "Epoch 254/350\n",
            "1/1 [==============================] - 0s 871us/step - loss: 22.9490 - mae: 23.4402\n",
            "Epoch 255/350\n",
            "1/1 [==============================] - 0s 820us/step - loss: 22.7194 - mae: 23.2090\n",
            "Epoch 256/350\n",
            "1/1 [==============================] - 0s 1ms/step - loss: 22.0737 - mae: 22.5629\n",
            "Epoch 257/350\n",
            "1/1 [==============================] - 0s 1ms/step - loss: 21.4001 - mae: 21.8875\n",
            "Epoch 258/350\n",
            "1/1 [==============================] - 0s 882us/step - loss: 20.9964 - mae: 21.4821\n",
            "Epoch 259/350\n",
            "1/1 [==============================] - 0s 959us/step - loss: 20.8377 - mae: 21.3250\n",
            "Epoch 260/350\n",
            "1/1 [==============================] - 0s 979us/step - loss: 20.8318 - mae: 21.3175\n",
            "Epoch 261/350\n",
            "1/1 [==============================] - 0s 916us/step - loss: 21.1023 - mae: 21.5899\n",
            "Epoch 262/350\n",
            "1/1 [==============================] - 0s 907us/step - loss: 21.7922 - mae: 22.2816\n",
            "Epoch 263/350\n",
            "1/1 [==============================] - 0s 924us/step - loss: 22.9586 - mae: 23.4497\n",
            "Epoch 264/350\n",
            "1/1 [==============================] - 0s 1ms/step - loss: 24.1302 - mae: 24.6250\n",
            "Epoch 265/350\n",
            "1/1 [==============================] - 0s 1ms/step - loss: 21.3699 - mae: 21.8573\n",
            "Epoch 266/350\n",
            "1/1 [==============================] - 0s 876us/step - loss: 20.3346 - mae: 20.8201\n",
            "Epoch 267/350\n",
            "1/1 [==============================] - 0s 1ms/step - loss: 20.1486 - mae: 20.6350\n",
            "Epoch 268/350\n",
            "1/1 [==============================] - 0s 907us/step - loss: 20.2998 - mae: 20.7860\n",
            "Epoch 269/350\n",
            "1/1 [==============================] - 0s 1ms/step - loss: 21.0578 - mae: 21.5460\n",
            "Epoch 270/350\n",
            "1/1 [==============================] - 0s 880us/step - loss: 23.0479 - mae: 23.5408\n",
            "Epoch 271/350\n",
            "1/1 [==============================] - 0s 836us/step - loss: 24.6267 - mae: 25.1226\n",
            "Epoch 272/350\n",
            "1/1 [==============================] - 0s 2ms/step - loss: 20.5614 - mae: 21.0488\n",
            "Epoch 273/350\n",
            "1/1 [==============================] - 0s 1ms/step - loss: 20.1295 - mae: 20.6161\n",
            "Epoch 274/350\n",
            "1/1 [==============================] - 0s 951us/step - loss: 22.4352 - mae: 22.9263\n",
            "Epoch 275/350\n",
            "1/1 [==============================] - 0s 859us/step - loss: 24.0198 - mae: 24.5137\n",
            "Epoch 276/350\n",
            "1/1 [==============================] - 0s 881us/step - loss: 21.9811 - mae: 22.4712\n",
            "Epoch 277/350\n",
            "1/1 [==============================] - 0s 793us/step - loss: 20.0861 - mae: 20.5727\n",
            "Epoch 278/350\n",
            "1/1 [==============================] - 0s 3ms/step - loss: 20.1365 - mae: 20.6234\n",
            "Epoch 279/350\n",
            "1/1 [==============================] - 0s 941us/step - loss: 21.6101 - mae: 22.1003\n",
            "Epoch 280/350\n",
            "1/1 [==============================] - 0s 968us/step - loss: 22.6747 - mae: 23.1669\n",
            "Epoch 281/350\n",
            "1/1 [==============================] - 0s 2ms/step - loss: 21.9197 - mae: 22.4094\n",
            "Epoch 282/350\n",
            "1/1 [==============================] - 0s 925us/step - loss: 20.3190 - mae: 20.8064\n",
            "Epoch 283/350\n",
            "1/1 [==============================] - 0s 927us/step - loss: 19.7227 - mae: 20.2092\n",
            "Epoch 284/350\n",
            "1/1 [==============================] - 0s 1ms/step - loss: 19.6947 - mae: 20.1805\n",
            "Epoch 285/350\n",
            "1/1 [==============================] - 0s 924us/step - loss: 20.1429 - mae: 20.6302\n",
            "Epoch 286/350\n",
            "1/1 [==============================] - 0s 935us/step - loss: 21.3735 - mae: 21.8631\n",
            "Epoch 287/350\n",
            "1/1 [==============================] - 0s 946us/step - loss: 22.5779 - mae: 23.0704\n",
            "Epoch 288/350\n",
            "1/1 [==============================] - 0s 1ms/step - loss: 22.7769 - mae: 23.2707\n",
            "Epoch 289/350\n",
            "1/1 [==============================] - 0s 1ms/step - loss: 20.4022 - mae: 20.8908\n",
            "Epoch 290/350\n",
            "1/1 [==============================] - 0s 1ms/step - loss: 19.5098 - mae: 19.9940\n",
            "Epoch 291/350\n",
            "1/1 [==============================] - 0s 3ms/step - loss: 19.4294 - mae: 19.9144\n",
            "Epoch 292/350\n",
            "1/1 [==============================] - 0s 3ms/step - loss: 19.8705 - mae: 20.3582\n",
            "Epoch 293/350\n",
            "1/1 [==============================] - 0s 1ms/step - loss: 21.2532 - mae: 21.7437\n",
            "Epoch 294/350\n",
            "1/1 [==============================] - 0s 855us/step - loss: 22.6483 - mae: 23.1414\n",
            "Epoch 295/350\n",
            "1/1 [==============================] - 0s 814us/step - loss: 22.6173 - mae: 23.1109\n",
            "Epoch 296/350\n",
            "1/1 [==============================] - 0s 1ms/step - loss: 20.0492 - mae: 20.5371\n",
            "Epoch 297/350\n",
            "1/1 [==============================] - 0s 897us/step - loss: 19.2519 - mae: 19.7377\n",
            "Epoch 298/350\n",
            "1/1 [==============================] - 0s 836us/step - loss: 19.4594 - mae: 19.9452\n",
            "Epoch 299/350\n",
            "1/1 [==============================] - 0s 4ms/step - loss: 20.6971 - mae: 21.1847\n",
            "Epoch 300/350\n",
            "1/1 [==============================] - 0s 1ms/step - loss: 22.3528 - mae: 22.8462\n",
            "Epoch 301/350\n",
            "1/1 [==============================] - 0s 844us/step - loss: 20.8384 - mae: 21.3259\n",
            "Epoch 302/350\n",
            "1/1 [==============================] - 0s 779us/step - loss: 19.6541 - mae: 20.1386\n",
            "Epoch 303/350\n",
            "1/1 [==============================] - 0s 820us/step - loss: 19.2455 - mae: 19.7316\n",
            "Epoch 304/350\n",
            "1/1 [==============================] - 0s 1ms/step - loss: 19.0995 - mae: 19.5838\n",
            "Epoch 305/350\n",
            "1/1 [==============================] - 0s 922us/step - loss: 19.0408 - mae: 19.5255\n",
            "Epoch 306/350\n",
            "1/1 [==============================] - 0s 908us/step - loss: 19.0454 - mae: 19.5308\n",
            "Epoch 307/350\n",
            "1/1 [==============================] - 0s 1ms/step - loss: 19.2348 - mae: 19.7213\n",
            "Epoch 308/350\n",
            "1/1 [==============================] - 0s 939us/step - loss: 20.2127 - mae: 20.7010\n",
            "Epoch 309/350\n",
            "1/1 [==============================] - 0s 836us/step - loss: 22.7601 - mae: 23.2537\n",
            "Epoch 310/350\n",
            "1/1 [==============================] - 0s 1ms/step - loss: 24.6800 - mae: 25.1772\n",
            "Epoch 311/350\n",
            "1/1 [==============================] - 0s 847us/step - loss: 18.9084 - mae: 19.3937\n",
            "Epoch 312/350\n",
            "1/1 [==============================] - 0s 805us/step - loss: 20.7701 - mae: 21.2575\n",
            "Epoch 313/350\n",
            "1/1 [==============================] - 0s 914us/step - loss: 26.1240 - mae: 26.6219\n",
            "Epoch 314/350\n",
            "1/1 [==============================] - 0s 1ms/step - loss: 18.8468 - mae: 19.3305\n",
            "Epoch 315/350\n",
            "1/1 [==============================] - 0s 854us/step - loss: 26.2109 - mae: 26.7078\n",
            "Epoch 316/350\n",
            "1/1 [==============================] - 0s 1ms/step - loss: 22.1478 - mae: 22.6420\n",
            "Epoch 317/350\n",
            "1/1 [==============================] - 0s 870us/step - loss: 19.2473 - mae: 19.7326\n",
            "Epoch 318/350\n",
            "1/1 [==============================] - 0s 834us/step - loss: 25.1658 - mae: 25.6614\n",
            "Epoch 319/350\n",
            "1/1 [==============================] - 0s 959us/step - loss: 20.6284 - mae: 21.1184\n",
            "Epoch 320/350\n",
            "1/1 [==============================] - 0s 1ms/step - loss: 19.2383 - mae: 19.7235\n",
            "Epoch 321/350\n",
            "1/1 [==============================] - 0s 1ms/step - loss: 23.2711 - mae: 23.7654\n",
            "Epoch 322/350\n",
            "1/1 [==============================] - 0s 882us/step - loss: 21.3547 - mae: 21.8458\n",
            "Epoch 323/350\n",
            "1/1 [==============================] - 0s 991us/step - loss: 18.8399 - mae: 19.3262\n",
            "Epoch 324/350\n",
            "1/1 [==============================] - 0s 2ms/step - loss: 21.1132 - mae: 21.6038\n",
            "Epoch 325/350\n",
            "1/1 [==============================] - 0s 830us/step - loss: 22.4067 - mae: 22.9002\n",
            "Epoch 326/350\n",
            "1/1 [==============================] - 0s 1ms/step - loss: 18.9239 - mae: 19.4101\n",
            "Epoch 327/350\n",
            "1/1 [==============================] - 0s 986us/step - loss: 19.7303 - mae: 20.2185\n",
            "Epoch 328/350\n",
            "1/1 [==============================] - 0s 1ms/step - loss: 22.1340 - mae: 22.6274\n",
            "Epoch 329/350\n",
            "1/1 [==============================] - 0s 1ms/step - loss: 19.4822 - mae: 19.9708\n",
            "Epoch 330/350\n",
            "1/1 [==============================] - 0s 812us/step - loss: 18.6286 - mae: 19.1138\n",
            "Epoch 331/350\n",
            "1/1 [==============================] - 0s 1ms/step - loss: 20.2076 - mae: 20.6980\n",
            "Epoch 332/350\n",
            "1/1 [==============================] - 0s 840us/step - loss: 21.4044 - mae: 21.8945\n",
            "Epoch 333/350\n",
            "1/1 [==============================] - 0s 1ms/step - loss: 20.2153 - mae: 20.7059\n",
            "Epoch 334/350\n",
            "1/1 [==============================] - 0s 3ms/step - loss: 18.6546 - mae: 19.1412\n",
            "Epoch 335/350\n",
            "1/1 [==============================] - 0s 918us/step - loss: 18.4583 - mae: 18.9439\n",
            "Epoch 336/350\n",
            "1/1 [==============================] - 0s 966us/step - loss: 19.2466 - mae: 19.7338\n",
            "Epoch 337/350\n",
            "1/1 [==============================] - 0s 1ms/step - loss: 20.5517 - mae: 21.0428\n",
            "Epoch 338/350\n",
            "1/1 [==============================] - 0s 918us/step - loss: 21.0150 - mae: 21.5063\n",
            "Epoch 339/350\n",
            "1/1 [==============================] - 0s 1ms/step - loss: 19.1305 - mae: 19.6188\n",
            "Epoch 340/350\n",
            "1/1 [==============================] - 0s 898us/step - loss: 18.3084 - mae: 18.7931\n",
            "Epoch 341/350\n",
            "1/1 [==============================] - 0s 1ms/step - loss: 18.3023 - mae: 18.7866\n",
            "Epoch 342/350\n",
            "1/1 [==============================] - 0s 999us/step - loss: 18.9337 - mae: 19.4221\n",
            "Epoch 343/350\n",
            "1/1 [==============================] - 0s 1ms/step - loss: 20.2168 - mae: 20.7068\n",
            "Epoch 344/350\n",
            "1/1 [==============================] - 0s 848us/step - loss: 20.3965 - mae: 20.8872\n",
            "Epoch 345/350\n",
            "1/1 [==============================] - 0s 914us/step - loss: 19.7900 - mae: 20.2793\n",
            "Epoch 346/350\n",
            "1/1 [==============================] - 0s 836us/step - loss: 18.8462 - mae: 19.3341\n",
            "Epoch 347/350\n",
            "1/1 [==============================] - 0s 963us/step - loss: 18.4283 - mae: 18.9135\n",
            "Epoch 348/350\n",
            "1/1 [==============================] - 0s 852us/step - loss: 18.3297 - mae: 18.8162\n",
            "Epoch 349/350\n",
            "1/1 [==============================] - 0s 963us/step - loss: 18.4796 - mae: 18.9658\n",
            "Epoch 350/350\n",
            "1/1 [==============================] - 0s 1ms/step - loss: 19.0140 - mae: 19.5016\n"
          ],
          "name": "stdout"
        }
      ]
    },
    {
      "cell_type": "markdown",
      "metadata": {
        "id": "h9I8-sUBk8br",
        "colab_type": "text"
      },
      "source": [
        "The MAE (Mean Absolute Error) seems pretty low after running it for 350 epochs, which is an excellent sign. It started at ~330 and ended around ~19. Now we can build a forecast using the model_forecast function specified earlier:"
      ]
    },
    {
      "cell_type": "code",
      "metadata": {
        "id": "X78T4xHyd9xV",
        "colab_type": "code",
        "colab": {}
      },
      "source": [
        "rnn_forecast = model_forecast(model, series[..., np.newaxis], window_size)\n",
        "rnn_forecast = rnn_forecast[split_time - window_size:-1,-1, 0]"
      ],
      "execution_count": 0,
      "outputs": []
    },
    {
      "cell_type": "markdown",
      "metadata": {
        "id": "5qEfQgs2lUQQ",
        "colab_type": "text"
      },
      "source": [
        "There are mainly 2 metrics used for evaluating the accuracy of time series data, Mean Absolute Error and Root Mean Squared Error. "
      ]
    },
    {
      "cell_type": "code",
      "metadata": {
        "id": "6_XDHsdttf-J",
        "colab_type": "code",
        "outputId": "dda0a7b1-286a-48e9-ed56-614a5f3e890d",
        "colab": {
          "base_uri": "https://localhost:8080/",
          "height": 52
        }
      },
      "source": [
        "n = tf.keras.metrics.MeanAbsoluteError()\n",
        "n.update_state(adj_valid, rnn_forecast)\n",
        "print('Mean Absolute Error: ', n.result().numpy())\n",
        "m = tf.keras.metrics.RootMeanSquaredError()\n",
        "m.update_state(adj_valid, rnn_forecast)\n",
        "print('Root Mean Squared Error: ', m.result().numpy())"
      ],
      "execution_count": 50,
      "outputs": [
        {
          "output_type": "stream",
          "text": [
            "Mean Absolute Error:  152.27446\n",
            "Root Mean Squared Error:  171.10997\n"
          ],
          "name": "stdout"
        }
      ]
    },
    {
      "cell_type": "markdown",
      "metadata": {
        "id": "cWEJlC5hlnFb",
        "colab_type": "text"
      },
      "source": [
        "Considering the fact that there was only 250 data points, and a pretty simple RNN built, a MAE of 150 and RMSE of 171 is extremely good. With more data, and a bigger model, it's very possible to reduce these numbers. \n",
        "\n",
        "---\n",
        "\n",
        "Plotting the predicted data against what actually happened:"
      ]
    },
    {
      "cell_type": "code",
      "metadata": {
        "id": "C5rzCOnCeJnU",
        "colab_type": "code",
        "outputId": "06cd12cc-2a57-4550-ab71-1343dfeb71bd",
        "colab": {
          "base_uri": "https://localhost:8080/",
          "height": 394
        }
      },
      "source": [
        "plt.figure(figsize=(20, 6))\n",
        "plt.style.use('fivethirtyeight')\n",
        "plt.title(\"Predictions vs Reality\", loc=\"left\")\n",
        "plt.plot(dates_valid, adj_valid, label=\"Actual\")\n",
        "plt.plot(dates_valid, rnn_forecast, label= \"Prediction\")\n",
        "plt.legend()"
      ],
      "execution_count": 44,
      "outputs": [
        {
          "output_type": "execute_result",
          "data": {
            "text/plain": [
              "<matplotlib.legend.Legend at 0x7f12360679e8>"
            ]
          },
          "metadata": {
            "tags": []
          },
          "execution_count": 44
        },
        {
          "output_type": "display_data",
          "data": {
            "image/png": "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\n",
            "text/plain": [
              "<Figure size 1440x432 with 1 Axes>"
            ]
          },
          "metadata": {
            "tags": []
          }
        }
      ]
    },
    {
      "cell_type": "markdown",
      "metadata": {
        "id": "CzoRloIil8Eu",
        "colab_type": "text"
      },
      "source": [
        "The model seemed to have gotten it pretty spot-on. It dips when the actual value dipped and seems to be on the rise, as is the case towards the end. "
      ]
    }
  ]
}
